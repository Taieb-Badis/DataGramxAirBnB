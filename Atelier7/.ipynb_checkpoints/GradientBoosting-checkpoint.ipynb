{
 "cells": [
  {
   "cell_type": "markdown",
   "metadata": {},
   "source": [
    "# Gradient Boosting et XGBoost"
   ]
  },
  {
   "cell_type": "markdown",
   "metadata": {},
   "source": [
    "Le **boosting** est une technique de réduction du biais et de la variance utilisé en appretissage supervisé. L'idée sous-jacente est de construire un modèle complexe à partir de plusieurs modèles simples, dits *faibles*.\n",
    "\n",
    "Considérons un classifieur faible initial $f_0$. Après l'avoir optimisé, la méthode de boosting cherche à construire un nouveau classifieur faible $f_1$ à partir de $f_0$ en introduction un terme *de résidu* $h$ :\n",
    "$$f_1(x)=f_0(x) + h(x)$$\n",
    "De sorte que $f_1$ soit *plus performant* que $f_0$. On répétant l'opération un certain nombre de fois, disons $p$, on construit un classifieur final $F$ complexe qui est une combinaison linéaire des $f_i$, où chacun des $f_i$ est associé à un poids $\\alpha_i$ :\n",
    "\n",
    "$$F(x)=\\sum_{i=1}^n \\alpha_i f_i(x)$$\n",
    "\n",
    "Le **Gradient Boosting** est une technique particulièrement puissante dans le cas où la fonction de perte (mesure d'écart entre les valeurs théoriques et les valeurs prédites) est différentiable (ce qui est notre cas pour une fonction de perte quadratique). Le principe est le suivant :\n",
    "\n",
    "- On commence par initialiser le modèle avec une valeur constante : $f_0(x)$\n",
    "- Ensuite, pour chaque itération ($1 \\leq m \\leq M$), on calcule les \"pseudo-résidus\" :\n",
    "$$r_{im} = - \\frac{\\partial L(y_i, f_{m-1}(x_i))}{\\partial f_{m-1}(x_i)}$$\n",
    "Ces pseudo-résidus permettent en réalité de donner un poids plus important aux individus qui ont été mal approximés, de sorte à \"forcer\" les prochaines itérations à se concentrer sur ces individus mal prédits.\n",
    "- Un classifieur faible $h_m$ est calibré sur les données $(x_i, r_{im})$\n",
    "- On détermine un poids associé à ce classifieur faible :\n",
    "$$\\gamma_m=\\text{argmin}_{\\gamma} \\sum_{i=1}^n L(y_i, f_{m-1}(x_i) + \\gamma h_m(x_i))$$\n",
    "- On met à jour le modèle :\n",
    "$$f_m(x)=f_{m-1}(x) + \\eta \\gamma_m h_m(x)$$\n",
    "Avec $\\eta$ le taux d'apprentissage, permettant d'éviter un éventuel sur-apprentissage (principe de régularisation qui ne sera pas abordé dans cet atelier).\n",
    "\n",
    "Cet algorithme, appliqué au cas des arbres de régression et de classification, s'appelle donc le **Gradient Tree Boosting**. Cette méthode est très performante et permet de modéliser une multitude de solutions dans divers domaines. Une librairie Python, très optimisée et simplifiée, nous permettant de créer ce modèle est **XGBoost**, qui est l'une des plus utilisées."
   ]
  },
  {
   "cell_type": "code",
   "execution_count": 1,
   "metadata": {},
   "outputs": [],
   "source": [
    "import numpy as np\n",
    "import pandas as pd\n",
    "import matplotlib.pyplot as plt\n",
    "from datetime import datetime\n",
    "import scipy\n",
    "import shap\n",
    "\n",
    "from sklearn.metrics import r2_score\n",
    "from sklearn.model_selection import train_test_split\n",
    "from sklearn.preprocessing import LabelEncoder\n",
    "\n",
    "import xgboost as xgb\n",
    "import seaborn as sn"
   ]
  },
  {
   "cell_type": "code",
   "execution_count": 2,
   "metadata": {},
   "outputs": [
    {
     "name": "stdout",
     "output_type": "stream",
     "text": [
      "Chargement des données effectué.\n"
     ]
    }
   ],
   "source": [
    "prices = pd.read_csv(\"../data/price_availability.csv\", sep=\";\")\n",
    "listings = pd.read_csv(\"../clean/listings_final.csv\", sep=\";\")\n",
    "listings = listings.drop(589)  # Cet individu n'a pas de prix !\n",
    "print(\"Chargement des données effectué.\")"
   ]
  },
  {
   "cell_type": "code",
   "execution_count": 3,
   "metadata": {},
   "outputs": [],
   "source": [
    "uniques = np.unique(prices[\"listing_id\"]) \n",
    "intersects = np.intersect1d(uniques, np.unique(listings[\"listing_id\"]))\n",
    "listings_prices = prices[prices[\"listing_id\"].isin(intersects)]"
   ]
  },
  {
   "cell_type": "code",
   "execution_count": 4,
   "metadata": {},
   "outputs": [
    {
     "data": {
      "text/html": [
       "<div>\n",
       "<style scoped>\n",
       "    .dataframe tbody tr th:only-of-type {\n",
       "        vertical-align: middle;\n",
       "    }\n",
       "\n",
       "    .dataframe tbody tr th {\n",
       "        vertical-align: top;\n",
       "    }\n",
       "\n",
       "    .dataframe thead th {\n",
       "        text-align: right;\n",
       "    }\n",
       "</style>\n",
       "<table border=\"1\" class=\"dataframe\">\n",
       "  <thead>\n",
       "    <tr style=\"text-align: right;\">\n",
       "      <th></th>\n",
       "      <th>listing_id</th>\n",
       "      <th>date</th>\n",
       "      <th>local_price</th>\n",
       "    </tr>\n",
       "  </thead>\n",
       "  <tbody>\n",
       "    <tr>\n",
       "      <th>0</th>\n",
       "      <td>56093</td>\n",
       "      <td>2018-08-27</td>\n",
       "      <td>170.0</td>\n",
       "    </tr>\n",
       "    <tr>\n",
       "      <th>1</th>\n",
       "      <td>56093</td>\n",
       "      <td>2018-09-03</td>\n",
       "      <td>170.0</td>\n",
       "    </tr>\n",
       "    <tr>\n",
       "      <th>2</th>\n",
       "      <td>56093</td>\n",
       "      <td>2018-09-10</td>\n",
       "      <td>170.0</td>\n",
       "    </tr>\n",
       "    <tr>\n",
       "      <th>3</th>\n",
       "      <td>56093</td>\n",
       "      <td>2018-09-17</td>\n",
       "      <td>170.0</td>\n",
       "    </tr>\n",
       "    <tr>\n",
       "      <th>4</th>\n",
       "      <td>56093</td>\n",
       "      <td>2018-09-24</td>\n",
       "      <td>170.0</td>\n",
       "    </tr>\n",
       "  </tbody>\n",
       "</table>\n",
       "</div>"
      ],
      "text/plain": [
       "   listing_id       date  local_price\n",
       "0       56093 2018-08-27        170.0\n",
       "1       56093 2018-09-03        170.0\n",
       "2       56093 2018-09-10        170.0\n",
       "3       56093 2018-09-17        170.0\n",
       "4       56093 2018-09-24        170.0"
      ]
     },
     "execution_count": 4,
     "metadata": {},
     "output_type": "execute_result"
    }
   ],
   "source": [
    "dates =  pd.to_datetime(listings_prices[\"day\"], format='%Y-%m-%d')\n",
    "week_prices = listings_prices.assign(date=dates).set_index(dates).groupby(['listing_id', pd.Grouper(key='date', freq='7D')]).mean().reset_index().loc[:, [\"listing_id\", \"date\", \"local_price\"]]\n",
    "week_prices.head()"
   ]
  },
  {
   "cell_type": "code",
   "execution_count": 5,
   "metadata": {},
   "outputs": [],
   "source": [
    "def populate(row):\n",
    "    return row.append(listings[listings[\"listing_id\"] == row[\"listing_id\"]].iloc[0,2:])\n",
    "    \n",
    "X = week_prices.apply(populate, axis=1)"
   ]
  },
  {
   "cell_type": "code",
   "execution_count": 6,
   "metadata": {},
   "outputs": [],
   "source": [
    "label_encoder = LabelEncoder()\n",
    "X[\"label_dates\"] = label_encoder.fit_transform(X[\"date\"])"
   ]
  },
  {
   "cell_type": "code",
   "execution_count": 7,
   "metadata": {},
   "outputs": [],
   "source": [
    "X_train, X_test, Y_train, Y_test = train_test_split(\n",
    "    X.loc[:, [\"label_dates\", \"latitude\", \"longitude\", \"person_capacity\", \"bedrooms\", \"bathrooms\"]],\n",
    "    X.loc[:, \"local_price\"],\n",
    "    test_size=0.2)"
   ]
  },
  {
   "cell_type": "code",
   "execution_count": 8,
   "metadata": {},
   "outputs": [],
   "source": [
    "dtrain = xgb.DMatrix(X_train, Y_train)\n",
    "dtest = xgb.DMatrix(X_test, Y_test)"
   ]
  },
  {
   "cell_type": "code",
   "execution_count": 9,
   "metadata": {},
   "outputs": [
    {
     "data": {
      "text/plain": [
       "XGBRegressor(base_score=0.5, booster='gbtree', colsample_bylevel=1,\n",
       "       colsample_bytree=1, eta=1, gamma=0, learning_rate=0.1,\n",
       "       max_delta_step=0, max_depth=3, min_child_weight=1, missing=None,\n",
       "       n_estimators=200, n_jobs=1, nthread=None, objective='reg:linear',\n",
       "       random_state=0, reg_alpha=0, reg_lambda=1, scale_pos_weight=1,\n",
       "       seed=None, silent=1, subsample=1)"
      ]
     },
     "execution_count": 9,
     "metadata": {},
     "output_type": "execute_result"
    }
   ],
   "source": [
    "param = {'max_depth':3, 'eta':1, 'silent':1, 'objective':'reg:linear', 'n_estimators': 200 }\n",
    "booster = xgb.XGBRegressor(**param)\n",
    "booster.fit(X_train, Y_train)"
   ]
  },
  {
   "cell_type": "code",
   "execution_count": 10,
   "metadata": {},
   "outputs": [
    {
     "name": "stdout",
     "output_type": "stream",
     "text": [
      "Variance score: 0.7958\n"
     ]
    }
   ],
   "source": [
    "print('Variance score: %.4f' % r2_score(Y_test, booster.predict(X_test)))"
   ]
  },
  {
   "cell_type": "markdown",
   "metadata": {},
   "source": [
    "## Tuning d'hyper-paramètres\n",
    "\n",
    "Comme énoncé précedemment, les hyper-paramètres sont des paramètres propres au modèle qui ne sont pas optimisés durant le processus d'apprentissage. Ils sont donc définit en amont, et il peut être problématique de déterminer efficacement les bonnes valeurs à choisir. Ce problème est omni-présent en Deep Learning du fait du très grand nombres d'hyper-paramètres (parfois des milliers) intervenant, en plus des longs calculs qu'engendrent les processus d'apprentissage. Néanmoins, pour des modèles ne nécessitant que relativement peu de temps de calculs, il peut être intéressant de trouver les bonnes valeurs de ces hyper-paramètres permettant d'obtenir un meilleur score.\n",
    "\n",
    "### Grille d'hyper-paramètres : recherche exhaustive\n",
    "\n",
    "Une méthode fréquemment employée est la recherche d'hyper-paramètres optimaux sur une grille pré-définie. Pour chaque hyper-paramètre $1 \\leq p \\leq P$, on recherche pour $n_p$ valeurs possibles en calibrant le modèle uniquement sur cette valeur. Ainsi, le nombre de modèles à calibrer est :\n",
    "\n",
    "$$\\prod_{p=1}^P n_p$$\n",
    "\n",
    "Ce qui peut très rapidement devenir impossible à calculer. Par exemple, si l'on dispose de $3$ hyper-paramètres dont $2$ pouvant prendre $3$ valeurs et le troisième pouvant prendre $6$ valeurs, la taille de la grille est de $54$ !"
   ]
  },
  {
   "cell_type": "code",
   "execution_count": 11,
   "metadata": {},
   "outputs": [],
   "source": [
    "from sklearn.model_selection import GridSearchCV"
   ]
  },
  {
   "cell_type": "markdown",
   "metadata": {},
   "source": [
    "Pour cet exemple, nous allons considérer que deux paramètres : le nombre d'arbres (*n_estimators*) et le taux d'apprentissage (*learning_rate*)."
   ]
  },
  {
   "cell_type": "code",
   "execution_count": 12,
   "metadata": {
    "scrolled": true
   },
   "outputs": [
    {
     "name": "stdout",
     "output_type": "stream",
     "text": [
      "Fitting 3 folds for each of 16 candidates, totalling 48 fits\n",
      "[CV] n_estimators=50, learning_rate=0.1 ..............................\n",
      "[CV] n_estimators=50, learning_rate=0.1 ..............................\n",
      "[CV] n_estimators=50, learning_rate=0.1 ..............................\n",
      "[CV] n_estimators=100, learning_rate=0.1 .............................\n",
      "[CV] n_estimators=100, learning_rate=0.1 .............................\n",
      "[CV]  n_estimators=50, learning_rate=0.1, score=0.6072283245058503, total=   0.1s\n",
      "[CV] n_estimators=100, learning_rate=0.1 .............................\n",
      "[CV]  n_estimators=50, learning_rate=0.1, score=0.6034751412364305, total=   0.1s\n",
      "[CV] n_estimators=200, learning_rate=0.1 .............................\n",
      "[CV]  n_estimators=50, learning_rate=0.1, score=0.5559410628072983, total=   0.1s\n",
      "[CV] n_estimators=200, learning_rate=0.1 .............................\n",
      "[CV]  n_estimators=100, learning_rate=0.1, score=0.6412310561972825, total=   0.2s\n",
      "[CV] n_estimators=200, learning_rate=0.1 .............................\n",
      "[CV]  n_estimators=100, learning_rate=0.1, score=0.671810543936554, total=   0.3s\n",
      "[CV] n_estimators=300, learning_rate=0.1 .............................\n",
      "[CV]  n_estimators=100, learning_rate=0.1, score=0.6802641728173496, total=   0.2s\n",
      "[CV] n_estimators=300, learning_rate=0.1 .............................\n",
      "[CV]  n_estimators=200, learning_rate=0.1, score=0.7657658741027926, total=   0.4s\n",
      "[CV]  n_estimators=200, learning_rate=0.1, score=0.7625067685842333, total=   0.5s\n",
      "[CV] n_estimators=50, learning_rate=0.5 ..............................\n",
      "[CV] n_estimators=50, learning_rate=0.5 ..............................\n",
      "[CV]  n_estimators=200, learning_rate=0.1, score=0.7909795821688822, total=   0.4s\n",
      "[CV] n_estimators=100, learning_rate=0.5 .............................\n",
      "[CV]  n_estimators=50, learning_rate=0.5, score=0.8270591716046678, total=   0.1s\n",
      "[CV] n_estimators=100, learning_rate=0.5 .............................\n",
      "[CV]  n_estimators=50, learning_rate=0.5, score=0.8156537311534893, total=   0.2s\n",
      "[CV] n_estimators=50, learning_rate=0.5 ..............................\n",
      "[CV]  n_estimators=100, learning_rate=0.5, score=0.8862443350964525, total=   0.2s\n",
      "[CV] n_estimators=100, learning_rate=0.5 .............................\n",
      "[CV]  n_estimators=50, learning_rate=0.5, score=0.8011370514745499, total=   0.1s\n",
      "[CV] n_estimators=200, learning_rate=0.5 .............................\n",
      "[CV]  n_estimators=100, learning_rate=0.5, score=0.8920075405329507, total=   0.2s\n",
      "[CV] n_estimators=200, learning_rate=0.5 .............................\n",
      "[CV]  n_estimators=300, learning_rate=0.1, score=0.8181693355639265, total=   0.7s\n",
      "[CV] n_estimators=300, learning_rate=0.5 .............................\n",
      "[CV]  n_estimators=300, learning_rate=0.1, score=0.8248022698068427, total=   0.7s\n",
      "[CV] n_estimators=300, learning_rate=0.1 .............................\n",
      "[CV]  n_estimators=100, learning_rate=0.5, score=0.8966409656662273, total=   0.3s\n",
      "[CV] n_estimators=50, learning_rate=1.0 ..............................\n",
      "[CV]  n_estimators=50, learning_rate=1.0, score=0.8806338068059785, total=   0.1s\n",
      "[CV] n_estimators=50, learning_rate=1.0 ..............................\n",
      "[CV]  n_estimators=200, learning_rate=0.5, score=0.9374394457642394, total=   0.4s\n",
      "[CV] n_estimators=200, learning_rate=0.5 .............................\n",
      "[CV]  n_estimators=200, learning_rate=0.5, score=0.9379516479255061, total=   0.4s\n",
      "[CV] n_estimators=300, learning_rate=0.5 .............................\n",
      "[CV]  n_estimators=50, learning_rate=1.0, score=0.8700165098897032, total=   0.2s\n",
      "[CV] n_estimators=50, learning_rate=1.0 ..............................\n",
      "[CV]  n_estimators=50, learning_rate=1.0, score=0.8728076992972037, total=   0.1s\n",
      "[CV] n_estimators=100, learning_rate=1.0 .............................\n",
      "[CV]  n_estimators=300, learning_rate=0.5, score=0.9424605287512919, total=   0.6s\n",
      "[CV] n_estimators=300, learning_rate=0.5 .............................\n",
      "[CV]  n_estimators=300, learning_rate=0.1, score=0.8384825002014875, total=   0.7s\n",
      "[CV] n_estimators=100, learning_rate=1.0 .............................\n",
      "[CV]  n_estimators=200, learning_rate=0.5, score=0.9331123065933702, total=   0.4s\n",
      "[CV] n_estimators=200, learning_rate=1.0 .............................\n",
      "[CV]  n_estimators=100, learning_rate=1.0, score=0.9287268096391531, total=   0.2s\n",
      "[CV] n_estimators=200, learning_rate=1.0 .............................\n",
      "[CV]  n_estimators=100, learning_rate=1.0, score=0.9222961691250465, total=   0.3s\n",
      "[CV] n_estimators=100, learning_rate=1.0 .............................\n",
      "[CV]  n_estimators=300, learning_rate=0.5, score=0.9506024781137927, total=   0.7s\n",
      "[CV]  n_estimators=200, learning_rate=1.0, score=0.9582108556632736, total=   0.4s\n",
      "[CV] n_estimators=300, learning_rate=1.0 .............................\n",
      "[CV] n_estimators=200, learning_rate=1.0 .............................\n",
      "[CV]  n_estimators=200, learning_rate=1.0, score=0.948863409237491, total=   0.4s\n",
      "[CV] n_estimators=300, learning_rate=1.0 .............................\n",
      "[CV]  n_estimators=300, learning_rate=0.5, score=0.9510188126168897, total=   0.6s\n",
      "[CV] n_estimators=50, learning_rate=1.5 ..............................\n",
      "[CV]  n_estimators=50, learning_rate=1.5, score=0.855696114052281, total=   0.1s\n",
      "[CV] n_estimators=50, learning_rate=1.5 ..............................\n",
      "[CV]  n_estimators=100, learning_rate=1.0, score=0.9230145839517682, total=   0.3s\n",
      "[CV] n_estimators=50, learning_rate=1.5 ..............................\n",
      "[CV]  n_estimators=50, learning_rate=1.5, score=0.8343929878605828, total=   0.1s\n",
      "[CV] n_estimators=100, learning_rate=1.5 .............................\n",
      "[CV]  n_estimators=50, learning_rate=1.5, score=0.8509013761075344, total=   0.1s\n",
      "[CV] n_estimators=100, learning_rate=1.5 .............................\n",
      "[CV]  n_estimators=200, learning_rate=1.0, score=0.9474538294163535, total=   0.4s\n",
      "[CV] n_estimators=200, learning_rate=1.5 .............................\n",
      "[CV]  n_estimators=100, learning_rate=1.5, score=0.9070541778948449, total=   0.2s\n",
      "[CV] n_estimators=100, learning_rate=1.5 .............................\n",
      "[CV]  n_estimators=100, learning_rate=1.5, score=0.9174768251859321, total=   0.3s\n",
      "[CV] n_estimators=200, learning_rate=1.5 .............................\n",
      "[CV]  n_estimators=300, learning_rate=1.0, score=0.9637353861226138, total=   0.6s\n",
      "[CV] n_estimators=300, learning_rate=1.5 .............................\n",
      "[CV]  n_estimators=100, learning_rate=1.5, score=0.9092680571057328, total=   0.2s\n",
      "[CV]  n_estimators=300, learning_rate=1.0, score=0.9559275327754079, total=   0.8s\n",
      "[CV] n_estimators=300, learning_rate=1.0 .............................\n",
      "[CV]  n_estimators=200, learning_rate=1.5, score=0.9449440992504534, total=   0.4s\n",
      "[CV] n_estimators=200, learning_rate=1.5 .............................\n",
      "[CV]  n_estimators=200, learning_rate=1.5, score=0.9406971797306557, total=   0.4s\n",
      "[CV] n_estimators=300, learning_rate=1.5 .............................\n",
      "[CV]  n_estimators=300, learning_rate=1.5, score=0.9385718581258798, total=   0.6s\n",
      "[CV] n_estimators=300, learning_rate=1.5 .............................\n",
      "[CV]  n_estimators=200, learning_rate=1.5, score=0.9311442974589293, total=   0.4s\n",
      "[CV]  n_estimators=300, learning_rate=1.0, score=0.9533641778497605, total=   0.6s\n",
      "[CV]  n_estimators=300, learning_rate=1.5, score=0.9512708946827572, total=   0.5s\n",
      "[CV]  n_estimators=300, learning_rate=1.5, score=0.944492364160433, total=   0.6s\n"
     ]
    },
    {
     "name": "stderr",
     "output_type": "stream",
     "text": [
      "[Parallel(n_jobs=5)]: Done  48 out of  48 | elapsed:    4.4s finished\n"
     ]
    },
    {
     "data": {
      "text/plain": [
       "GridSearchCV(cv=None, error_score='raise',\n",
       "       estimator=XGBRegressor(base_score=0.5, booster='gbtree', colsample_bylevel=1,\n",
       "       colsample_bytree=1, gamma=0, learning_rate=0.1, max_delta_step=0,\n",
       "       max_depth=3, min_child_weight=1, missing=None, n_estimators=100,\n",
       "       n_jobs=1, nthread=None, objective='reg:linear', random_state=0,\n",
       "       reg_alpha=0, reg_lambda=1, scale_pos_weight=1, seed=None,\n",
       "       silent=True, subsample=1),\n",
       "       fit_params=None, iid=True, n_jobs=5,\n",
       "       param_grid={'n_estimators': [50, 100, 200, 300], 'learning_rate': [0.1, 0.5, 1.0, 1.5]},\n",
       "       pre_dispatch='2*n_jobs', refit=True, return_train_score=True,\n",
       "       scoring='r2', verbose=3)"
      ]
     },
     "execution_count": 12,
     "metadata": {},
     "output_type": "execute_result"
    }
   ],
   "source": [
    "grid_params = { 'learning_rate': [ 0.1, 0.5, 1.0, 1.5], 'n_estimators': [ 50, 100, 200, 300] }\n",
    "\n",
    "cv_grid = GridSearchCV(xgb.XGBRegressor(), grid_params, n_jobs=5, scoring='r2',\n",
    "                   verbose=3, refit=True, return_train_score=True)\n",
    "\n",
    "cv_grid.fit(X_train, Y_train)"
   ]
  },
  {
   "cell_type": "markdown",
   "metadata": {},
   "source": [
    "Affichons tous les résultats obtenus par le modèle de *tuning*."
   ]
  },
  {
   "cell_type": "code",
   "execution_count": 13,
   "metadata": {
    "scrolled": true
   },
   "outputs": [
    {
     "name": "stdout",
     "output_type": "stream",
     "text": [
      " * split2_train_score : [0.57662147 0.68058378 0.80358784 0.85066319 0.83590254 0.91031801\n",
      " 0.95620409 0.96925988 0.88984381 0.93884363 0.96678772 0.9733709\n",
      " 0.87339119 0.9308864  0.96220973 0.97680499]\n",
      " * params : [{'n_estimators': 50, 'learning_rate': 0.1}, {'n_estimators': 100, 'learning_rate': 0.1}, {'n_estimators': 200, 'learning_rate': 0.1}, {'n_estimators': 300, 'learning_rate': 0.1}, {'n_estimators': 50, 'learning_rate': 0.5}, {'n_estimators': 100, 'learning_rate': 0.5}, {'n_estimators': 200, 'learning_rate': 0.5}, {'n_estimators': 300, 'learning_rate': 0.5}, {'n_estimators': 50, 'learning_rate': 1.0}, {'n_estimators': 100, 'learning_rate': 1.0}, {'n_estimators': 200, 'learning_rate': 1.0}, {'n_estimators': 300, 'learning_rate': 1.0}, {'n_estimators': 50, 'learning_rate': 1.5}, {'n_estimators': 100, 'learning_rate': 1.5}, {'n_estimators': 200, 'learning_rate': 1.5}, {'n_estimators': 300, 'learning_rate': 1.5}]\n",
      " * param_learning_rate : [0.1 0.1 0.1 0.1 0.5 0.5 0.5 0.5 1.0 1.0 1.0 1.0 1.5 1.5 1.5 1.5]\n",
      " * split1_train_score : [0.63701454 0.71571701 0.80689969 0.86016228 0.84129687 0.91215882\n",
      " 0.9529877  0.96141708 0.90154929 0.94455383 0.97046535 0.97875373\n",
      " 0.87510395 0.93964193 0.96766517 0.97627917]\n",
      " * split1_test_score : [0.60722832 0.67181054 0.76576587 0.82480227 0.80113705 0.88624434\n",
      " 0.93311231 0.94246053 0.87001651 0.92229617 0.94745383 0.95592753\n",
      " 0.83439299 0.90705418 0.9311443  0.93857186]\n",
      " * mean_test_score : [0.58887934 0.66443373 0.77308338 0.82715078 0.81461672 0.89163097\n",
      " 0.93616788 0.94802744 0.87448641 0.92467945 0.95150981 0.9576761\n",
      " 0.8469974  0.91126676 0.93892892 0.9447788 ]\n",
      " * split0_train_score : [0.6197294  0.69081107 0.78875692 0.84247955 0.81995208 0.90291429\n",
      " 0.95118492 0.96528366 0.88928931 0.94513883 0.9720418  0.97917459\n",
      " 0.86706849 0.92901858 0.96604595 0.97498845]\n",
      " * std_train_score : [0.02539552 0.01475446 0.0078887  0.0072256  0.00906223 0.00399535\n",
      " 0.00207598 0.00320191 0.00565325 0.00283976 0.0022014  0.00264228\n",
      " 0.00345573 0.00463086 0.00228766 0.0007632 ]\n",
      " * std_test_score : [0.02334352 0.01676738 0.01272366 0.00845757 0.01060769 0.00425261\n",
      " 0.00217061 0.00393988 0.00449415 0.00287718 0.00477364 0.00441092\n",
      " 0.00912466 0.00448365 0.00577091 0.0051884 ]\n",
      " * mean_fit_time : [0.11521316 0.22286773 0.41658902 0.64827649 0.13090348 0.21498171\n",
      " 0.39798427 0.61064641 0.12957565 0.2373306  0.35905345 0.61731728\n",
      " 0.10946083 0.20494246 0.38762585 0.51194167]\n",
      " * mean_score_time : [0.00651312 0.01403626 0.02971729 0.04575022 0.00663296 0.01256442\n",
      " 0.02733739 0.03718328 0.00709724 0.01349886 0.02261949 0.03655314\n",
      " 0.00639955 0.01326625 0.02646184 0.03958432]\n",
      " * std_score_time : [0.00091693 0.00120436 0.00284909 0.00530352 0.00074118 0.00134438\n",
      " 0.00120429 0.00647253 0.00129553 0.00176491 0.00058813 0.00030674\n",
      " 0.00075748 0.00206849 0.00093685 0.0004461 ]\n",
      " * std_fit_time : [0.01251211 0.02550998 0.0087739  0.03318252 0.01261706 0.04278895\n",
      " 0.00717504 0.06655225 0.01657894 0.03340079 0.037876   0.08345116\n",
      " 0.01773974 0.03605075 0.02240348 0.02400228]\n",
      " * mean_train_score : [0.6111218  0.69570395 0.79974815 0.85110167 0.83238383 0.90846371\n",
      " 0.9534589  0.96532021 0.89356081 0.94284543 0.96976496 0.97709974\n",
      " 0.87185454 0.9331823  0.96530695 0.9760242 ]\n",
      " * rank_test_score : [16 15 14 12 13  9  6  3 10  7  2  1 11  8  5  4]\n",
      " * param_n_estimators : [50 100 200 300 50 100 200 300 50 100 200 300 50 100 200 300]\n",
      " * split2_test_score : [0.60347514 0.68026417 0.79097958 0.8384825  0.82705917 0.89664097\n",
      " 0.93795165 0.95101881 0.8728077  0.92301458 0.94886341 0.95336418\n",
      " 0.85090138 0.90926806 0.94069718 0.94449236]\n",
      " * split0_test_score : [0.55594106 0.64123106 0.76250677 0.81816934 0.81565373 0.89200754\n",
      " 0.93743945 0.95060248 0.88063381 0.92872681 0.95821086 0.96373539\n",
      " 0.85569611 0.91747683 0.9449441  0.95127089]\n"
     ]
    }
   ],
   "source": [
    "for key in cv_grid.cv_results_:\n",
    "    print(\" * \" + key + \" :\", cv_grid.cv_results_[key])"
   ]
  },
  {
   "cell_type": "code",
   "execution_count": 14,
   "metadata": {},
   "outputs": [],
   "source": [
    "def plot_grid_results(cv):\n",
    "    score_matrix = np.asarray(cv.cv_results_[\"mean_test_score\"]).reshape((4,4))\n",
    "    time_matrix = np.asarray(cv.cv_results_[\"mean_score_time\"]).reshape((4,4))\n",
    "\n",
    "    plt.figure(figsize=(10, 7))\n",
    "    plt.title(\"Scores R2\")\n",
    "    sn.set(font_scale=1.5)\n",
    "    annotations = np.array([ [ str(\"{:2.0f}%\".format(x * 100))\n",
    "                              for x in row ] for row in score_matrix ])\n",
    "    ax = sn.heatmap(score_matrix, annot=annotations, fmt=\"\",\n",
    "               yticklabels=grid_params[\"learning_rate\"],\n",
    "               xticklabels=grid_params[\"n_estimators\"])\n",
    "    ax.set(ylabel=\"Taux d'apprentissage\", xlabel=\"Nombre d'arbres\")\n",
    "\n",
    "    plt.figure(figsize=(10, 7))\n",
    "    plt.title(\"Temps d'exécution\")\n",
    "    annotations = np.array([ [ str(\"{:0.2f}s\".format(x))\n",
    "                              for x in row ] for row in time_matrix ])\n",
    "    ax = sn.heatmap(score_matrix, annot=annotations, fmt=\"\",\n",
    "               yticklabels=grid_params[\"learning_rate\"],\n",
    "               xticklabels=grid_params[\"n_estimators\"])\n",
    "    ax.set(ylabel=\"Taux d'apprentissage\", xlabel=\"Nombre d'arbres\")"
   ]
  },
  {
   "cell_type": "code",
   "execution_count": 15,
   "metadata": {},
   "outputs": [
    {
     "data": {
      "image/png": "[encoded data removed]",
      "text/plain": [
       "<Figure size 720x504 with 2 Axes>"
      ]
     },
     "metadata": {
      "needs_background": "light"
     },
     "output_type": "display_data"
    },
    {
     "data": {
      "image/png": "[encoded data removed]",
      "text/plain": [
       "<Figure size 720x504 with 2 Axes>"
      ]
     },
     "metadata": {},
     "output_type": "display_data"
    }
   ],
   "source": [
    "plot_grid_results(cv_grid)"
   ]
  },
  {
   "cell_type": "markdown",
   "metadata": {},
   "source": [
    "### Recherche aléatoire d'hyper-paramètres"
   ]
  },
  {
   "cell_type": "code",
   "execution_count": 16,
   "metadata": {},
   "outputs": [],
   "source": [
    "from sklearn.model_selection import RandomizedSearchCV\n",
    "\n",
    "from scipy.stats import uniform, randint"
   ]
  },
  {
   "cell_type": "code",
   "execution_count": 34,
   "metadata": {},
   "outputs": [
    {
     "name": "stdout",
     "output_type": "stream",
     "text": [
      "Fitting 3 folds for each of 10 candidates, totalling 30 fits\n",
      "[CV] n_estimators=263, learning_rate=1.169356577020229 ...............\n",
      "[CV] n_estimators=263, learning_rate=1.169356577020229 ...............\n",
      "[CV] n_estimators=263, learning_rate=1.169356577020229 ...............\n",
      "[CV] n_estimators=210, learning_rate=1.5602995770686239 ..............\n",
      "[CV] n_estimators=210, learning_rate=1.5602995770686239 ..............\n",
      "[CV]  n_estimators=210, learning_rate=1.5602995770686239, score=0.9451942364972103, total=   0.4s\n",
      "[CV] n_estimators=210, learning_rate=1.5602995770686239 ..............\n",
      "[CV]  n_estimators=263, learning_rate=1.169356577020229, score=0.9569735544283856, total=   0.5s\n",
      "[CV] n_estimators=291, learning_rate=1.856518348992745 ...............\n",
      "[CV]  n_estimators=263, learning_rate=1.169356577020229, score=0.9519369434482872, total=   0.6s\n",
      "[CV] n_estimators=291, learning_rate=1.856518348992745 ...............\n",
      "[CV]  n_estimators=210, learning_rate=1.5602995770686239, score=0.9340728640812728, total=   0.6s\n",
      "[CV] n_estimators=291, learning_rate=1.856518348992745 ...............\n",
      "[CV]  n_estimators=263, learning_rate=1.169356577020229, score=0.952281530554568, total=   0.7s\n",
      "[CV] n_estimators=227, learning_rate=1.181754474418299 ...............\n",
      "[CV]  n_estimators=210, learning_rate=1.5602995770686239, score=0.9413691595007305, total=   0.4s\n",
      "[CV] n_estimators=227, learning_rate=1.181754474418299 ...............\n",
      "[CV]  n_estimators=291, learning_rate=1.856518348992745, score=0.945676133791529, total=   0.6s\n",
      "[CV] n_estimators=227, learning_rate=1.181754474418299 ...............\n",
      "[CV]  n_estimators=227, learning_rate=1.181754474418299, score=0.9558506565116046, total=   0.4s\n",
      "[CV] n_estimators=244, learning_rate=0.4701087759050979 ..............\n",
      "[CV]  n_estimators=227, learning_rate=1.181754474418299, score=0.9507344213057267, total=   0.4s\n",
      "[CV] n_estimators=244, learning_rate=0.4701087759050979 ..............\n",
      "[CV]  n_estimators=291, learning_rate=1.856518348992745, score=0.9430742763656921, total=   0.8s\n",
      "[CV] n_estimators=244, learning_rate=0.4701087759050979 ..............\n",
      "[CV]  n_estimators=291, learning_rate=1.856518348992745, score=0.9361468596526099, total=   0.8s\n",
      "[CV] n_estimators=183, learning_rate=1.3423622813060978 ..............\n",
      "[CV]  n_estimators=227, learning_rate=1.181754474418299, score=0.949051081945755, total=   0.5s\n",
      "[CV] n_estimators=183, learning_rate=1.3423622813060978 ..............\n",
      "[CV]  n_estimators=244, learning_rate=0.4701087759050979, score=0.9392310798222321, total=   0.5s\n",
      "[CV] n_estimators=183, learning_rate=1.3423622813060978 ..............\n",
      "[CV]  n_estimators=244, learning_rate=0.4701087759050979, score=0.934426181363081, total=   0.5s\n",
      "[CV] n_estimators=285, learning_rate=1.7702085602965691 ..............\n",
      "[CV]  n_estimators=183, learning_rate=1.3423622813060978, score=0.9497156279927953, total=   0.4s\n",
      "[CV] n_estimators=285, learning_rate=1.7702085602965691 ..............\n",
      "[CV]  n_estimators=244, learning_rate=0.4701087759050979, score=0.9423232826996123, total=   0.5s\n",
      "[CV] n_estimators=285, learning_rate=1.7702085602965691 ..............\n",
      "[CV]  n_estimators=183, learning_rate=1.3423622813060978, score=0.9454060298259727, total=   0.4s\n",
      "[CV] n_estimators=287, learning_rate=1.57033942235101 ................\n",
      "[CV]  n_estimators=183, learning_rate=1.3423622813060978, score=0.9467105853167905, total=   0.5s\n",
      "[CV] n_estimators=287, learning_rate=1.57033942235101 ................\n",
      "[CV]  n_estimators=285, learning_rate=1.7702085602965691, score=0.9384331951075373, total=   0.6s\n",
      "[CV] n_estimators=287, learning_rate=1.57033942235101 ................\n",
      "[CV]  n_estimators=285, learning_rate=1.7702085602965691, score=0.9491457120319433, total=   0.7s\n",
      "[CV] n_estimators=176, learning_rate=1.0209208992457102 ..............\n",
      "[CV]  n_estimators=287, learning_rate=1.57033942235101, score=0.9473432670703719, total=   0.6s\n",
      "[CV] n_estimators=176, learning_rate=1.0209208992457102 ..............\n",
      "[CV]  n_estimators=285, learning_rate=1.7702085602965691, score=0.9425675206475685, total=   0.7s\n",
      "[CV] n_estimators=176, learning_rate=1.0209208992457102 ..............\n",
      "[CV]  n_estimators=287, learning_rate=1.57033942235101, score=0.938736908238237, total=   0.7s\n",
      "[CV] n_estimators=277, learning_rate=0.28442702775027495 .............\n",
      "[CV]  n_estimators=176, learning_rate=1.0209208992457102, score=0.9530763642973906, total=   0.4s\n",
      "[CV] n_estimators=277, learning_rate=0.28442702775027495 .............\n",
      "[CV]  n_estimators=176, learning_rate=1.0209208992457102, score=0.9398912030993365, total=   0.4s\n",
      "[CV]  n_estimators=287, learning_rate=1.57033942235101, score=0.9462153752724209, total=   0.5s\n",
      "[CV] n_estimators=277, learning_rate=0.28442702775027495 .............\n",
      "[CV]  n_estimators=176, learning_rate=1.0209208992457102, score=0.9458902134935351, total=   0.4s\n",
      "[CV]  n_estimators=277, learning_rate=0.28442702775027495, score=0.9275297940570792, total=   0.5s\n",
      "[CV]  n_estimators=277, learning_rate=0.28442702775027495, score=0.9160494323805354, total=   0.6s\n",
      "[CV]  n_estimators=277, learning_rate=0.28442702775027495, score=0.9251585176200432, total=   0.5s\n"
     ]
    },
    {
     "name": "stderr",
     "output_type": "stream",
     "text": [
      "[Parallel(n_jobs=5)]: Done  30 out of  30 | elapsed:    4.0s finished\n"
     ]
    },
    {
     "data": {
      "text/plain": [
       "RandomizedSearchCV(cv=None, error_score='raise',\n",
       "          estimator=XGBRegressor(base_score=0.5, booster='gbtree', colsample_bylevel=1,\n",
       "       colsample_bytree=1, gamma=0, learning_rate=0.1, max_delta_step=0,\n",
       "       max_depth=3, min_child_weight=1, missing=None, n_estimators=100,\n",
       "       n_jobs=1, nthread=None, objective='reg:linear', random_state=0,\n",
       "       reg_alpha=0, reg_lambda=1, scale_pos_weight=1, seed=None,\n",
       "       silent=True, subsample=1),\n",
       "          fit_params=None, iid=True, n_iter=10, n_jobs=5,\n",
       "          param_distributions={'n_estimators': <scipy.stats._distn_infrastructure.rv_frozen object at 0x7fa966f43390>, 'learning_rate': <scipy.stats._distn_infrastructure.rv_frozen object at 0x7fa966f43cc0>},\n",
       "          pre_dispatch='2*n_jobs', random_state=None, refit=True,\n",
       "          return_train_score=True, scoring='r2', verbose=3)"
      ]
     },
     "execution_count": 34,
     "metadata": {},
     "output_type": "execute_result"
    }
   ],
   "source": [
    "grid_params = { 'learning_rate': uniform(scale=2.0), 'n_estimators': randint(low=100, high=301) }\n",
    "\n",
    "cv_random = RandomizedSearchCV(xgb.XGBRegressor(), grid_params, n_jobs=5, scoring='r2',\n",
    "                   verbose=3, refit=True, return_train_score=True)\n",
    "\n",
    "cv_random.fit(X_train, Y_train)"
   ]
  },
  {
   "cell_type": "code",
   "execution_count": 35,
   "metadata": {},
   "outputs": [
    {
     "data": {
      "text/plain": [
       "{'learning_rate': 1.169356577020229, 'n_estimators': 263}"
      ]
     },
     "execution_count": 35,
     "metadata": {},
     "output_type": "execute_result"
    }
   ],
   "source": [
    "cv_random.best_params_"
   ]
  },
  {
   "cell_type": "code",
   "execution_count": 36,
   "metadata": {},
   "outputs": [
    {
     "data": {
      "text/plain": [
       "XGBRegressor(base_score=0.5, booster='gbtree', colsample_bylevel=1,\n",
       "       colsample_bytree=1, gamma=0, learning_rate=1.169356577020229,\n",
       "       max_delta_step=0, max_depth=3, min_child_weight=1, missing=None,\n",
       "       n_estimators=263, n_jobs=1, nthread=None, objective='reg:linear',\n",
       "       random_state=0, reg_alpha=0, reg_lambda=1, scale_pos_weight=1,\n",
       "       seed=None, silent=True, subsample=1)"
      ]
     },
     "execution_count": 36,
     "metadata": {},
     "output_type": "execute_result"
    }
   ],
   "source": [
    "regressor = xgb.XGBRegressor(\n",
    "    learning_rate=cv_random.best_params_['learning_rate'],\n",
    "    n_estimators=cv_random.best_params_['n_estimators'])\n",
    "regressor.fit(X_train, Y_train)"
   ]
  },
  {
   "cell_type": "markdown",
   "metadata": {},
   "source": [
    "## Stabilité et intervalles de confiance\n",
    "\n",
    "Pour fournir des intervalles de confiances et vérifier la stabilité des prédictions sur des potentiels futurs données, il est utile d'avoir recours à la technique de Bootstrapping, et surtout celle permettant de générer des intervalles de confiances en utilisant des sous-échantillons de l'ensemble de test (le Bootstrap offre plus de possibilités, mais ici nous l'utilisons uniquement pour déterminer la stabilité du modèle).\n",
    "\n",
    "Le principe est le suivant : on dispose de l'ensemble de test $(X_i^{\\text{Test}})_{1 \\leq i \\leq l}$. On utilise ensuite l'algorithme ci-dessous.\n",
    "\n",
    "- On sélectionne un sous-échantillon $U \\subset (X_i^{\\text{Test}})_{1 \\leq i \\leq l}$ de taille $m$ pour chaque $1 \\leq j \\leq M$\n",
    "- Une prédiction du score $\\hat{R}^2_j$ est obtenue sur ce sous-échantillon\n",
    "- La distribution empirique $(\\hat{R}^2_j)_{1 \\leq j \\leq M}$ nous permet de calculer le score prédit ainsi que des intervalles de confiances associés\n",
    "\n",
    "Au final, on obtient une séquence de valeurs de scores empiriques calculés sur les sous-échantillons. Cela permet donc d'offrir des calculs plus fins tant sur la moyenne que sur la variance des scores obtenus."
   ]
  },
  {
   "cell_type": "code",
   "execution_count": 37,
   "metadata": {},
   "outputs": [],
   "source": [
    "from sklearn.model_selection import KFold"
   ]
  },
  {
   "cell_type": "code",
   "execution_count": null,
   "metadata": {},
   "outputs": [],
   "source": []
  },
  {
   "cell_type": "code",
   "execution_count": 38,
   "metadata": {},
   "outputs": [],
   "source": [
    "kfold = KFold(n_splits=100, shuffle=True)\n",
    "\n",
    "outputs = []\n",
    "for train_I, test_I in kfold.split(X_test):\n",
    "    fold_x = X_test.iloc[train_I, :]\n",
    "    fold_y = Y_test.values[train_I]\n",
    "    fold_predict = regressor.predict(fold_x)\n",
    "    outputs.append(r2_score(fold_y, fold_predict))"
   ]
  },
  {
   "cell_type": "code",
   "execution_count": null,
   "metadata": {},
   "outputs": [],
   "source": []
  },
  {
   "cell_type": "code",
   "execution_count": 39,
   "metadata": {},
   "outputs": [
    {
     "data": {
      "image/png": "[encoded data removed]",
      "text/plain": [
       "<Figure size 1008x576 with 1 Axes>"
      ]
     },
     "metadata": {},
     "output_type": "display_data"
    }
   ],
   "source": [
    "plt.figure(figsize=(14, 8))\n",
    "plt.hist(outputs, bins=50, density=True)\n",
    "plt.show()"
   ]
  },
  {
   "cell_type": "markdown",
   "metadata": {},
   "source": [
    "Il nous reste à déterminer l'intervalle de confiance associé au score $R^2$. Ici, il suffit donc de fournir la moyenne des échantillons du Bootstrap associé à un intervalle de confiance. Dans l'idée, en supposant que l'on dispose de beaucoup d'observations, on pourrait approximer la distribution par une loi normale d'après le théorème central limite. Dans une partie des cas d'applications, on ne peut effectuer cette approximation du fait du manque d'individus dans l'ensemble de test.\n",
    "\n",
    "Pour palier à ce défaut, il est possible de construire un intervalle de confiance non asymptotique à partir des quantiles empiriques observés. Si l'on souhaite fournir un intervalle de confiance non asymptotique de niveau $\\alpha$, alors l'intervalle de confiance est tel que :\n",
    "\n",
    "$$\\mathbb{P}(R^2 \\in I) \\geq 1 - \\alpha$$ \n",
    "\n",
    "Notons $\\hat{q}$ la fonction quantile empirique de la distribution. Une méthode rapide pour déterminer un intervalle de confiance est d'utiliser la formule suivant :\n",
    "\n",
    "$$\\left[ \\hat{R}^2 - \\hat{q}\\left( 1 - \\frac{\\alpha}{2} \\right) \\frac{\\hat{\\sigma}}{\\sqrt{n}}, \\hat{R}^2 + \\hat{q}\\left( 1 - \\frac{\\alpha}{2} \\right) \\frac{\\hat{\\sigma}}{\\sqrt{n}} \\right]$$\n",
    "\n",
    "En utilisant des simplifications, par exemple en considérant que la distribution supposée est normale (valide dans le cas du TCL), pour un niveau de confiance de $95 \\%$, l'intervalle se simplifie par :\n",
    "\n",
    "$$\\left[ \\hat{R}^2 - 1.96 \\frac{\\hat{\\sigma}}{\\sqrt{n}}, \\hat{R}^2 + 1.96 \\frac{\\hat{\\sigma}}{\\sqrt{n}} \\right]$$\n"
   ]
  },
  {
   "cell_type": "code",
   "execution_count": 40,
   "metadata": {},
   "outputs": [
    {
     "name": "stdout",
     "output_type": "stream",
     "text": [
      "Intervalle de confiance de niveau 95% : 96.4% ± 0.007%\n"
     ]
    }
   ],
   "source": [
    "distrib = np.asarray(outputs)\n",
    "mean = distrib.mean()\n",
    "std = distrib.std()\n",
    "expansion = 1.96 * std / np.sqrt(distrib.shape[0])\n",
    "print(\"Intervalle de confiance de niveau 95% : {:2.1f}% ± {:2.3f}%\".format(mean * 100, expansion * 100))"
   ]
  },
  {
   "cell_type": "markdown",
   "metadata": {},
   "source": [
    "**Ne pas oublier** : ces résultats sont toujours basés sur l'ensemble de test ! Il convient de fournir ce résultat avec des informations relatives à cet ensemble (taille, hétérogénéité, paramètres de stabilité, ...) pour que le lecteur aguerri ait une vision claire et précise de ce résultat."
   ]
  }
 ],
 "metadata": {
  "kernelspec": {
   "display_name": "Python 3",
   "language": "python",
   "name": "python3"
  },
  "language_info": {
   "codemirror_mode": {
    "name": "ipython",
    "version": 3
   },
   "file_extension": ".py",
   "mimetype": "text/x-python",
   "name": "python",
   "nbconvert_exporter": "python",
   "pygments_lexer": "ipython3",
   "version": "3.5.2"
  }
 },
 "nbformat": 4,
 "nbformat_minor": 2
}
