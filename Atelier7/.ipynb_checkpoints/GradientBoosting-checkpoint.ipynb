{
 "cells": [
  {
   "cell_type": "markdown",
   "metadata": {},
   "source": [
    "# Gradient Boosting et XGBoost"
   ]
  },
  {
   "cell_type": "markdown",
   "metadata": {},
   "source": [
    "Le **boosting** est une technique de réduction du biais et de la variance utilisé en appretissage supervisé. L'idée sous-jacente est de construire un modèle complexe à partir de plusieurs modèles simples, dits *faibles*.\n",
    "\n",
    "Considérons un classifieur faible initial $f_0$. Après l'avoir optimisé, la méthode de boosting cherche à construire un nouveau classifieur faible $f_1$ à partir de $f_0$ en introduction un terme *de résidu* $h$ :\n",
    "$$f_1(x)=f_0(x) + h(x)$$\n",
    "De sorte que $f_1$ soit *plus performant* que $f_0$. On répétant l'opération un certain nombre de fois, disons $p$, on construit un classifieur final $F$ complexe qui est une combinaison linéaire des $f_i$, où chacun des $f_i$ est associé à un poids $\\alpha_i$ :\n",
    "\n",
    "$$F(x)=\\sum_{i=1}^n \\alpha_i f_i(x)$$\n",
    "\n",
    "Le **Gradient Boosting** est une technique particulièrement puissante dans le cas où la fonction de perte (mesure d'écart entre les valeurs théoriques et les valeurs prédites) est différentiable (ce qui est notre cas pour une fonction de perte quadratique). Le principe est le suivant :\n",
    "\n",
    "- On commence par initialiser le modèle avec une valeur constante : $f_0(x)$\n",
    "- Ensuite, pour chaque itération ($1 \\leq m \\leq M$), on calcule les \"pseudo-résidus\" :\n",
    "$$r_{im} = - \\frac{\\partial L(y_i, f_{m-1}(x_i))}{\\partial f_{m-1}(x_i)}$$\n",
    "Ces pseudo-résidus permettent en réalité de donner un poids plus important aux individus qui ont été mal approximés, de sorte à \"forcer\" les prochaines itérations à se concentrer sur ces individus mal classés.\n",
    "- Un classifieur faible $h_m$ est calibré sur les données $(x_i, r_{im})$\n",
    "- On détermine un poids associé à ce classifieur faible :\n",
    "$$\\gamma_m=\\text{argmin}_{\\gamma} \\sum_{i=1}^n L(y_i, f_{m-1}(x_i) + \\gamma h_m(x_i))$$\n",
    "- On met à jour le modèle :\n",
    "$$f_m(x)=f_{m-1}(x) + \\eta \\gamma_m h_m(x)$$\n",
    "Avec $\\eta$ le taux d'apprentissage, permettant d'éviter un éventuel sur-apprentissage (principe de régularisation qui ne sera pas abordé dans cet atelier).\n",
    "\n",
    "Cet algorithme, appliqué au cas des arbres de régression et de classification, s'appelle donc le **Gradient Tree Boosting**. Cette méthode est très performante et permet de modéliser une multitude de solutions dans divers domaines. Une librairie Python, très optimisée et simplifiée, nous permettant de créer ce modèle est **XGBoost**, qui est l'une des plus utilisées."
   ]
  },
  {
   "cell_type": "code",
   "execution_count": 2,
   "metadata": {},
   "outputs": [],
   "source": [
    "import numpy as np\n",
    "import pandas as pd\n",
    "import matplotlib.pyplot as plt\n",
    "from datetime import datetime\n",
    "import scipy\n",
    "import shap\n",
    "\n",
    "from sklearn.metrics import r2_score\n",
    "from sklearn.model_selection import train_test_split\n",
    "from sklearn.preprocessing import LabelEncoder\n",
    "\n",
    "import xgboost as xgb"
   ]
  },
  {
   "cell_type": "code",
   "execution_count": 3,
   "metadata": {},
   "outputs": [
    {
     "name": "stdout",
     "output_type": "stream",
     "text": [
      "Chargement des données effectué.\n"
     ]
    }
   ],
   "source": [
    "prices = pd.read_csv(\"../data/price_availability.csv\", sep=\";\")\n",
    "listings = pd.read_csv(\"../clean/listings_final.csv\", sep=\";\")\n",
    "listings = listings.drop(589)  # Cet individu n'a pas de prix !\n",
    "print(\"Chargement des données effectué.\")"
   ]
  },
  {
   "cell_type": "code",
   "execution_count": 4,
   "metadata": {},
   "outputs": [],
   "source": [
    "uniques = np.unique(prices[\"listing_id\"]) \n",
    "intersects = np.intersect1d(uniques, np.unique(listings[\"listing_id\"]))\n",
    "listings_prices = prices[prices[\"listing_id\"].isin(intersects)]"
   ]
  },
  {
   "cell_type": "code",
   "execution_count": 5,
   "metadata": {},
   "outputs": [
    {
     "data": {
      "text/html": [
       "<div>\n",
       "<style scoped>\n",
       "    .dataframe tbody tr th:only-of-type {\n",
       "        vertical-align: middle;\n",
       "    }\n",
       "\n",
       "    .dataframe tbody tr th {\n",
       "        vertical-align: top;\n",
       "    }\n",
       "\n",
       "    .dataframe thead th {\n",
       "        text-align: right;\n",
       "    }\n",
       "</style>\n",
       "<table border=\"1\" class=\"dataframe\">\n",
       "  <thead>\n",
       "    <tr style=\"text-align: right;\">\n",
       "      <th></th>\n",
       "      <th>listing_id</th>\n",
       "      <th>date</th>\n",
       "      <th>local_price</th>\n",
       "    </tr>\n",
       "  </thead>\n",
       "  <tbody>\n",
       "    <tr>\n",
       "      <th>0</th>\n",
       "      <td>56093</td>\n",
       "      <td>2018-08-27</td>\n",
       "      <td>170.0</td>\n",
       "    </tr>\n",
       "    <tr>\n",
       "      <th>1</th>\n",
       "      <td>56093</td>\n",
       "      <td>2018-09-03</td>\n",
       "      <td>170.0</td>\n",
       "    </tr>\n",
       "    <tr>\n",
       "      <th>2</th>\n",
       "      <td>56093</td>\n",
       "      <td>2018-09-10</td>\n",
       "      <td>170.0</td>\n",
       "    </tr>\n",
       "    <tr>\n",
       "      <th>3</th>\n",
       "      <td>56093</td>\n",
       "      <td>2018-09-17</td>\n",
       "      <td>170.0</td>\n",
       "    </tr>\n",
       "    <tr>\n",
       "      <th>4</th>\n",
       "      <td>56093</td>\n",
       "      <td>2018-09-24</td>\n",
       "      <td>170.0</td>\n",
       "    </tr>\n",
       "  </tbody>\n",
       "</table>\n",
       "</div>"
      ],
      "text/plain": [
       "   listing_id       date  local_price\n",
       "0       56093 2018-08-27        170.0\n",
       "1       56093 2018-09-03        170.0\n",
       "2       56093 2018-09-10        170.0\n",
       "3       56093 2018-09-17        170.0\n",
       "4       56093 2018-09-24        170.0"
      ]
     },
     "execution_count": 5,
     "metadata": {},
     "output_type": "execute_result"
    }
   ],
   "source": [
    "dates =  pd.to_datetime(listings_prices[\"day\"], format='%Y-%m-%d')\n",
    "week_prices = listings_prices.assign(date=dates).set_index(dates).groupby(['listing_id', pd.Grouper(key='date', freq='7D')]).mean().reset_index().loc[:, [\"listing_id\", \"date\", \"local_price\"]]\n",
    "week_prices.head()"
   ]
  },
  {
   "cell_type": "code",
   "execution_count": 6,
   "metadata": {},
   "outputs": [],
   "source": [
    "def populate(row):\n",
    "    return row.append(listings[listings[\"listing_id\"] == row[\"listing_id\"]].iloc[0,2:])\n",
    "    \n",
    "X = week_prices.apply(populate, axis=1)"
   ]
  },
  {
   "cell_type": "code",
   "execution_count": 7,
   "metadata": {},
   "outputs": [],
   "source": [
    "label_encoder = LabelEncoder()\n",
    "X[\"label_dates\"] =  label_encoder.fit_transform(X[\"date\"])"
   ]
  },
  {
   "cell_type": "code",
   "execution_count": 61,
   "metadata": {},
   "outputs": [],
   "source": [
    "X_train, X_test, Y_train, Y_test = train_test_split(\n",
    "    X.loc[:, [\"label_dates\", \"latitude\", \"longitude\", \"person_capacity\", \"bedrooms\", \"bathrooms\"]],\n",
    "    X.loc[:, \"local_price\"],\n",
    "    test_size=0.2)"
   ]
  },
  {
   "cell_type": "code",
   "execution_count": 62,
   "metadata": {},
   "outputs": [],
   "source": [
    "dtrain = xgb.DMatrix(X_train, Y_train)\n",
    "dtest = xgb.DMatrix(X_test, Y_test)"
   ]
  },
  {
   "cell_type": "code",
   "execution_count": 86,
   "metadata": {},
   "outputs": [],
   "source": [
    "param = {'max_depth':3, 'eta':1, 'silent':1, 'objective':'reg:linear' }\n",
    "num_round = 100\n",
    "booster = xgb.train(param, dtrain, num_round)"
   ]
  },
  {
   "cell_type": "code",
   "execution_count": 87,
   "metadata": {},
   "outputs": [
    {
     "name": "stdout",
     "output_type": "stream",
     "text": [
      "Variance score: 0.9421\n"
     ]
    }
   ],
   "source": [
    "print('Variance score: %.4f' % r2_score(Y_test, booster.predict(dtest)))"
   ]
  },
  {
   "cell_type": "markdown",
   "metadata": {},
   "source": [
    "## Tuning d'hyper-paramètres\n",
    "\n",
    "Comme énoncé précedemment, les hyper-paramètres sont des paramètres propres au modèle qui ne sont pas optimisés durant le processus d'apprentissage. Ils sont donc définit en amont, et il peut être problématique de déterminer efficacement les bonnes valeurs à choisir. Ce problème est omni-présent en Deep Learning du fait du très grand nombres d'hyper-paramètres (parfois des milliers) intervenant, en plus des longs calculs qu'engendrent les processus d'apprentissage. Néanmoins, pour des modèles ne nécessitant que relativement peu de temps de calculs, il peut être intéressant de trouver les bonnes valeurs de ces hyper-paramètres permettant d'obtenir un meilleur score."
   ]
  },
  {
   "cell_type": "code",
   "execution_count": 12,
   "metadata": {},
   "outputs": [],
   "source": [
    "from sklearn.model_selection import GridSearchCV"
   ]
  },
  {
   "cell_type": "code",
   "execution_count": 149,
   "metadata": {
    "scrolled": true
   },
   "outputs": [
    {
     "name": "stdout",
     "output_type": "stream",
     "text": [
      "Fitting 3 folds for each of 16 candidates, totalling 48 fits\n",
      "[CV] learning_rate=0.1, n_estimators=50 ..............................\n",
      "[CV] learning_rate=0.1, n_estimators=50 ..............................\n",
      "[CV] learning_rate=0.1, n_estimators=50 ..............................\n",
      "[CV] learning_rate=0.1, n_estimators=100 .............................\n",
      "[CV] learning_rate=0.1, n_estimators=100 .............................\n",
      "[CV]  learning_rate=0.1, n_estimators=50, score=0.5882032980725508, total=   0.1s\n",
      "[CV] learning_rate=0.1, n_estimators=100 .............................\n",
      "[CV]  learning_rate=0.1, n_estimators=50, score=0.5816835380014106, total=   0.1s\n",
      "[CV] learning_rate=0.1, n_estimators=200 .............................\n",
      "[CV]  learning_rate=0.1, n_estimators=50, score=0.6127727022803844, total=   0.1s\n",
      "[CV] learning_rate=0.1, n_estimators=200 .............................\n",
      "[CV]  learning_rate=0.1, n_estimators=100, score=0.6806413257707572, total=   0.2s\n",
      "[CV] learning_rate=0.1, n_estimators=200 .............................\n",
      "[CV]  learning_rate=0.1, n_estimators=100, score=0.6718111012727337, total=   0.3s\n",
      "[CV] learning_rate=0.1, n_estimators=300 .............................\n",
      "[CV]  learning_rate=0.1, n_estimators=100, score=0.6965884070874248, total=   0.3s\n",
      "[CV] learning_rate=0.1, n_estimators=300 .............................\n",
      "[CV]  learning_rate=0.1, n_estimators=200, score=0.7743015454270681, total=   0.4s\n",
      "[CV] learning_rate=0.5, n_estimators=50 ..............................\n",
      "[CV]  learning_rate=0.1, n_estimators=200, score=0.772281951744331, total=   0.5s\n",
      "[CV] learning_rate=0.5, n_estimators=50 ..............................\n",
      "[CV]  learning_rate=0.5, n_estimators=50, score=0.8158439945376572, total=   0.1s\n",
      "[CV] learning_rate=0.5, n_estimators=50 ..............................\n",
      "[CV]  learning_rate=0.1, n_estimators=200, score=0.8020495003490322, total=   0.5s\n",
      "[CV] learning_rate=0.5, n_estimators=100 .............................\n",
      "[CV]  learning_rate=0.5, n_estimators=50, score=0.8112950323836312, total=   0.1s\n",
      "[CV] learning_rate=0.5, n_estimators=100 .............................\n",
      "[CV]  learning_rate=0.5, n_estimators=50, score=0.8068005660823747, total=   0.1s\n",
      "[CV] learning_rate=0.5, n_estimators=200 .............................\n",
      "[CV]  learning_rate=0.5, n_estimators=100, score=0.8850160197420874, total=   0.2s\n",
      "[CV] learning_rate=0.5, n_estimators=100 .............................\n",
      "[CV]  learning_rate=0.1, n_estimators=300, score=0.8151475894338405, total=   0.7s\n",
      "[CV] learning_rate=0.5, n_estimators=200 .............................\n",
      "[CV]  learning_rate=0.5, n_estimators=100, score=0.8937133304791801, total=   0.3s\n",
      "[CV] learning_rate=0.5, n_estimators=300 .............................\n",
      "[CV]  learning_rate=0.1, n_estimators=300, score=0.825251473973734, total=   0.8s\n",
      "[CV] learning_rate=0.1, n_estimators=300 .............................\n",
      "[CV]  learning_rate=0.5, n_estimators=100, score=0.8900119404169299, total=   0.3s\n",
      "[CV] learning_rate=1.0, n_estimators=50 ..............................\n",
      "[CV]  learning_rate=0.5, n_estimators=200, score=0.9316914764275815, total=   0.5s\n",
      "[CV] learning_rate=0.5, n_estimators=200 .............................\n",
      "[CV]  learning_rate=1.0, n_estimators=50, score=0.8633676163783834, total=   0.1s\n",
      "[CV] learning_rate=1.0, n_estimators=50 ..............................\n",
      "[CV]  learning_rate=1.0, n_estimators=50, score=0.8632423893466499, total=   0.1s\n",
      "[CV] learning_rate=1.0, n_estimators=50 ..............................\n",
      "[CV]  learning_rate=0.5, n_estimators=200, score=0.9424422052713703, total=   0.5s\n",
      "[CV] learning_rate=0.5, n_estimators=300 .............................\n",
      "[CV]  learning_rate=1.0, n_estimators=50, score=0.8770680248817664, total=   0.1s\n",
      "[CV] learning_rate=1.0, n_estimators=100 .............................\n",
      "[CV]  learning_rate=0.5, n_estimators=300, score=0.9486674278093036, total=   0.7s\n",
      "[CV] learning_rate=0.5, n_estimators=300 .............................\n",
      "[CV]  learning_rate=0.5, n_estimators=200, score=0.9338607989848351, total=   0.4s\n",
      "[CV] learning_rate=1.0, n_estimators=100 .............................\n",
      "[CV]  learning_rate=0.1, n_estimators=300, score=0.8478267983444774, total=   0.7s\n",
      "[CV] learning_rate=1.0, n_estimators=200 .............................\n",
      "[CV]  learning_rate=1.0, n_estimators=100, score=0.9155915807850743, total=   0.3s\n",
      "[CV] learning_rate=1.0, n_estimators=200 .............................\n",
      "[CV]  learning_rate=1.0, n_estimators=100, score=0.915526751868733, total=   0.2s\n",
      "[CV] learning_rate=1.0, n_estimators=100 .............................\n",
      "[CV]  learning_rate=0.5, n_estimators=300, score=0.9442300606271041, total=   0.6s\n",
      "[CV] learning_rate=1.0, n_estimators=300 .............................\n",
      "[CV]  learning_rate=1.0, n_estimators=100, score=0.9308092621733649, total=   0.3s\n",
      "[CV] learning_rate=1.5, n_estimators=50 ..............................\n",
      "[CV]  learning_rate=1.0, n_estimators=200, score=0.94399416858938, total=   0.5s\n",
      "[CV] learning_rate=1.0, n_estimators=300 .............................\n",
      "[CV]  learning_rate=1.5, n_estimators=50, score=0.8483235356412613, total=   0.1s\n",
      "[CV] learning_rate=1.5, n_estimators=50 ..............................\n",
      "[CV]  learning_rate=1.0, n_estimators=200, score=0.9402094189846041, total=   0.5s\n",
      "[CV] learning_rate=1.0, n_estimators=200 .............................\n",
      "[CV]  learning_rate=0.5, n_estimators=300, score=0.9564390009886123, total=   0.7s\n",
      "[CV] learning_rate=1.5, n_estimators=50 ..............................\n",
      "[CV]  learning_rate=1.5, n_estimators=50, score=0.8366667596556466, total=   0.1s\n",
      "[CV] learning_rate=1.5, n_estimators=100 .............................\n",
      "[CV]  learning_rate=1.5, n_estimators=50, score=0.8408558459760311, total=   0.1s\n",
      "[CV] learning_rate=1.5, n_estimators=100 .............................\n",
      "[CV]  learning_rate=1.0, n_estimators=300, score=0.9576800393704661, total=   0.6s\n",
      "[CV] learning_rate=1.0, n_estimators=300 .............................\n",
      "[CV]  learning_rate=1.5, n_estimators=100, score=0.9047197700015016, total=   0.2s\n",
      "[CV] learning_rate=1.5, n_estimators=200 .............................\n",
      "[CV]  learning_rate=1.5, n_estimators=100, score=0.9051586884758072, total=   0.3s\n",
      "[CV] learning_rate=1.5, n_estimators=100 .............................\n",
      "[CV]  learning_rate=1.0, n_estimators=200, score=0.9509140988089907, total=   0.5s\n",
      "[CV] learning_rate=1.5, n_estimators=200 .............................\n",
      "[CV]  learning_rate=1.0, n_estimators=300, score=0.9468153996360769, total=   0.6s\n",
      "[CV] learning_rate=1.5, n_estimators=300 .............................\n",
      "[CV]  learning_rate=1.5, n_estimators=100, score=0.9109069830455034, total=   0.3s\n",
      "[CV]  learning_rate=1.5, n_estimators=200, score=0.9341348143649657, total=   0.4s\n",
      "[CV] learning_rate=1.5, n_estimators=200 .............................\n",
      "[CV]  learning_rate=1.0, n_estimators=300, score=0.9525747797990841, total=   0.6s\n",
      "[CV]  learning_rate=1.5, n_estimators=200, score=0.9441477483774883, total=   0.4s\n",
      "[CV] learning_rate=1.5, n_estimators=300 .............................\n",
      "[CV]  learning_rate=1.5, n_estimators=300, score=0.953462122809032, total=   0.6s\n",
      "[CV] learning_rate=1.5, n_estimators=300 .............................\n",
      "[CV]  learning_rate=1.5, n_estimators=200, score=0.9447039399102066, total=   0.4s\n",
      "[CV]  learning_rate=1.5, n_estimators=300, score=0.9404076081694426, total=   0.5s\n",
      "[CV]  learning_rate=1.5, n_estimators=300, score=0.9502971680555773, total=   0.5s\n"
     ]
    },
    {
     "name": "stderr",
     "output_type": "stream",
     "text": [
      "[Parallel(n_jobs=5)]: Done  48 out of  48 | elapsed:    4.6s finished\n"
     ]
    },
    {
     "data": {
      "text/plain": [
       "GridSearchCV(cv=None, error_score='raise',\n",
       "       estimator=XGBRegressor(base_score=0.5, booster='gbtree', colsample_bylevel=1,\n",
       "       colsample_bytree=1, gamma=0, learning_rate=0.1, max_delta_step=0,\n",
       "       max_depth=3, min_child_weight=1, missing=None, n_estimators=100,\n",
       "       n_jobs=1, nthread=None, objective='reg:linear', random_state=0,\n",
       "       reg_alpha=0, reg_lambda=1, scale_pos_weight=1, seed=None,\n",
       "       silent=True, subsample=1),\n",
       "       fit_params=None, iid=True, n_jobs=5,\n",
       "       param_grid={'learning_rate': [0.1, 0.5, 1.0, 1.5], 'n_estimators': [50, 100, 200, 300]},\n",
       "       pre_dispatch='2*n_jobs', refit=True, return_train_score=True,\n",
       "       scoring='r2', verbose=3)"
      ]
     },
     "execution_count": 149,
     "metadata": {},
     "output_type": "execute_result"
    }
   ],
   "source": [
    "grid_params = { 'learning_rate': [ 0.1, 0.5, 1.0, 1.5], 'n_estimators': [ 50, 100, 200, 300] }\n",
    "\n",
    "clf = GridSearchCV(xgb.XGBRegressor(), grid_params, n_jobs=5, scoring='r2',\n",
    "                   verbose=3, refit=True, return_train_score=True)\n",
    "\n",
    "clf.fit(X_train, Y_train)"
   ]
  },
  {
   "cell_type": "code",
   "execution_count": 150,
   "metadata": {
    "scrolled": true
   },
   "outputs": [
    {
     "data": {
      "text/plain": [
       "{'mean_fit_time': array([0.12243827, 0.24406568, 0.44385497, 0.67188859, 0.12010098,\n",
       "        0.22703385, 0.45152887, 0.6209743 , 0.11318405, 0.24140485,\n",
       "        0.48195124, 0.55960218, 0.11900926, 0.23614232, 0.38993581,\n",
       "        0.49715137]),\n",
       " 'mean_score_time': array([0.00633963, 0.01226672, 0.02814841, 0.04595145, 0.00576679,\n",
       "        0.01319726, 0.02789211, 0.0426453 , 0.0058473 , 0.01233308,\n",
       "        0.02687105, 0.03853989, 0.00658862, 0.01472449, 0.0279506 ,\n",
       "        0.03870614]),\n",
       " 'mean_test_score': array([0.59421902, 0.68301346, 0.7828771 , 0.82940768, 0.8113135 ,\n",
       "        0.8895807 , 0.93599788, 0.94977846, 0.86789238, 0.9206422 ,\n",
       "        0.94503891, 0.95235637, 0.84194913, 0.90692834, 0.94099505,\n",
       "        0.94805513]),\n",
       " 'mean_train_score': array([0.60315021, 0.69729243, 0.79713195, 0.84487595, 0.83351217,\n",
       "        0.90708961, 0.95157829, 0.96687519, 0.88846181, 0.94095128,\n",
       "        0.96493354, 0.97303167, 0.86757842, 0.9297393 , 0.96578187,\n",
       "        0.9755537 ]),\n",
       " 'param_learning_rate': masked_array(data=[0.1, 0.1, 0.1, 0.1, 0.5, 0.5, 0.5, 0.5, 1.0, 1.0, 1.0,\n",
       "                    1.0, 1.5, 1.5, 1.5, 1.5],\n",
       "              mask=[False, False, False, False, False, False, False, False,\n",
       "                    False, False, False, False, False, False, False, False],\n",
       "        fill_value='?',\n",
       "             dtype=object),\n",
       " 'param_n_estimators': masked_array(data=[50, 100, 200, 300, 50, 100, 200, 300, 50, 100, 200,\n",
       "                    300, 50, 100, 200, 300],\n",
       "              mask=[False, False, False, False, False, False, False, False,\n",
       "                    False, False, False, False, False, False, False, False],\n",
       "        fill_value='?',\n",
       "             dtype=object),\n",
       " 'params': [{'learning_rate': 0.1, 'n_estimators': 50},\n",
       "  {'learning_rate': 0.1, 'n_estimators': 100},\n",
       "  {'learning_rate': 0.1, 'n_estimators': 200},\n",
       "  {'learning_rate': 0.1, 'n_estimators': 300},\n",
       "  {'learning_rate': 0.5, 'n_estimators': 50},\n",
       "  {'learning_rate': 0.5, 'n_estimators': 100},\n",
       "  {'learning_rate': 0.5, 'n_estimators': 200},\n",
       "  {'learning_rate': 0.5, 'n_estimators': 300},\n",
       "  {'learning_rate': 1.0, 'n_estimators': 50},\n",
       "  {'learning_rate': 1.0, 'n_estimators': 100},\n",
       "  {'learning_rate': 1.0, 'n_estimators': 200},\n",
       "  {'learning_rate': 1.0, 'n_estimators': 300},\n",
       "  {'learning_rate': 1.5, 'n_estimators': 50},\n",
       "  {'learning_rate': 1.5, 'n_estimators': 100},\n",
       "  {'learning_rate': 1.5, 'n_estimators': 200},\n",
       "  {'learning_rate': 1.5, 'n_estimators': 300}],\n",
       " 'rank_test_score': array([16, 15, 14, 12, 13,  9,  6,  2, 10,  7,  4,  1, 11,  8,  5,  3],\n",
       "       dtype=int32),\n",
       " 'split0_test_score': array([0.58168354, 0.68064133, 0.77430155, 0.81514759, 0.81584399,\n",
       "        0.89371333, 0.93169148, 0.94423006, 0.86336762, 0.91559158,\n",
       "        0.94020942, 0.9468154 , 0.84832354, 0.90471977, 0.93413481,\n",
       "        0.94040761]),\n",
       " 'split0_train_score': array([0.61406987, 0.71407466, 0.80034664, 0.84020351, 0.83788356,\n",
       "        0.91347708, 0.95064614, 0.96891322, 0.88919314, 0.94427765,\n",
       "        0.97052803, 0.97953738, 0.87562859, 0.93521972, 0.97075589,\n",
       "        0.97942275]),\n",
       " 'split1_test_score': array([0.5882033 , 0.6718111 , 0.77228195, 0.82525147, 0.80680057,\n",
       "        0.88501602, 0.9338608 , 0.94866743, 0.86324239, 0.91552675,\n",
       "        0.9509141 , 0.95768004, 0.83666676, 0.90515869, 0.94470394,\n",
       "        0.95346212]),\n",
       " 'split1_train_score': array([0.60596434, 0.69863753, 0.79822437, 0.85207833, 0.84192631,\n",
       "        0.90708877, 0.95135335, 0.96484803, 0.89059692, 0.9378732 ,\n",
       "        0.96924258, 0.9772558 , 0.86606549, 0.92587645, 0.96300794,\n",
       "        0.97442881]),\n",
       " 'split2_test_score': array([0.6127727 , 0.69658841, 0.8020495 , 0.8478268 , 0.81129503,\n",
       "        0.89001194, 0.94244221, 0.956439  , 0.87706802, 0.93080926,\n",
       "        0.94399417, 0.95257478, 0.84085585, 0.91090698, 0.94414775,\n",
       "        0.95029717]),\n",
       " 'split2_train_score': array([0.58941642, 0.67916509, 0.79282483, 0.84234601, 0.82072665,\n",
       "        0.90070299, 0.95273538, 0.96686432, 0.88559538, 0.94070297,\n",
       "        0.95503002, 0.96230182, 0.86104119, 0.92812172, 0.9635818 ,\n",
       "        0.97280954]),\n",
       " 'std_fit_time': array([0.01445451, 0.01656304, 0.01679035, 0.0429512 , 0.01248936,\n",
       "        0.03513407, 0.03885422, 0.05625107, 0.01457298, 0.02571668,\n",
       "        0.03275442, 0.01803619, 0.01502455, 0.03352501, 0.00821924,\n",
       "        0.02324636]),\n",
       " 'std_score_time': array([0.00081695, 0.00127809, 0.00326874, 0.00621238, 0.00067949,\n",
       "        0.00175972, 0.00125884, 0.00591646, 0.00093866, 0.001409  ,\n",
       "        0.00373915, 0.00687141, 0.00048206, 0.00164529, 0.00495268,\n",
       "        0.00146876]),\n",
       " 'std_test_score': array([0.01338609, 0.01025312, 0.01358131, 0.01366128, 0.00369205,\n",
       "        0.00356379, 0.00464187, 0.00504589, 0.00648804, 0.00718889,\n",
       "        0.00443223, 0.00443823, 0.00482131, 0.00281889, 0.00485671,\n",
       "        0.00556035]),\n",
       " 'std_train_score': array([0.01025955, 0.01428348, 0.00316643, 0.00516742, 0.00919015,\n",
       "        0.005215  , 0.00086763, 0.00165962, 0.00210634, 0.0026205 ,\n",
       "        0.00702249, 0.00764411, 0.00605061, 0.00398218, 0.00352495,\n",
       "        0.00281456])}"
      ]
     },
     "execution_count": 150,
     "metadata": {},
     "output_type": "execute_result"
    }
   ],
   "source": [
    "clf.cv_results_"
   ]
  },
  {
   "cell_type": "code",
   "execution_count": 175,
   "metadata": {},
   "outputs": [
    {
     "data": {
      "text/html": [
       "[Text(69,0.5,\"Taux d'apprentissage\"), Text(0.5,42,\"Nombre d'arbres\")]"
      ],
      "text/plain": [
       "[Text(69,0.5,\"Taux d'apprentissage\"), Text(0.5,42,\"Nombre d'arbres\")]"
      ]
     },
     "execution_count": 175,
     "metadata": {},
     "output_type": "execute_result"
    },
    {
     "data": {
      "image/png": "[encoded data removed]",
      "text/plain": [
       "<Figure size 720x504 with 2 Axes>"
      ]
     },
     "metadata": {
      "needs_background": "light"
     },
     "output_type": "display_data"
    }
   ],
   "source": [
    "import seaborn as sn\n",
    "\n",
    "score_matrix = np.asarray(clf.cv_results_[\"mean_test_score\"]).reshape((4,4))\n",
    "time_matrix = np.asarray(clf.cv_results_[\"mean_test_score\"]).reshape((4,4))\n",
    "\n",
    "plt.figure(figsize=(10, 7))\n",
    "ax = sn.heatmap(score_matrix, annot=True,\n",
    "           yticklabels=grid_params[\"learning_rate\"],\n",
    "           xticklabels=grid_params[\"n_estimators\"])\n",
    "ax.set(ylabel=\"Taux d'apprentissage\", xlabel=\"Nombre d'arbres\")\n",
    "\n",
    "plt.figure(figsize=(10, 7))\n",
    "ax = sn.heatmap(score_matrix, annot=True,\n",
    "           yticklabels=grid_params[\"learning_rate\"],\n",
    "           xticklabels=grid_params[\"n_estimators\"])\n",
    "ax.set(ylabel=\"Taux d'apprentissage\", xlabel=\"Nombre d'arbres\")"
   ]
  },
  {
   "cell_type": "code",
   "execution_count": null,
   "metadata": {},
   "outputs": [],
   "source": []
  }
 ],
 "metadata": {
  "kernelspec": {
   "display_name": "Python 3",
   "language": "python",
   "name": "python3"
  },
  "language_info": {
   "codemirror_mode": {
    "name": "ipython",
    "version": 3
   },
   "file_extension": ".py",
   "mimetype": "text/x-python",
   "name": "python",
   "nbconvert_exporter": "python",
   "pygments_lexer": "ipython3",
   "version": "3.5.2"
  }
 },
 "nbformat": 4,
 "nbformat_minor": 2
}
