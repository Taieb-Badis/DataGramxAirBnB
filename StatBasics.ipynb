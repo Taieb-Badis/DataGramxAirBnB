{
 "cells": [
  {
   "cell_type": "markdown",
   "metadata": {},
   "source": [
    "# Statistique et vocabulaire en Data Science \n",
    "\n",
    "\n",
    "## Introduction \n",
    "La statistique est une branche des mathématiques qui consiste à étudier des phénomènes par la collecte de données, leur traitement, leur analyse, l'interprétation des résultats et leur présentation afin de rendre les données compréhensibles par tous. C'est à la fois une science, une méthode et un ensemble de techniques.\n",
    "\n",
    "Elle possède une composante théorique ainsi qu'une composante appliquée. La composante théorique s'appuie sur la théorie des probabilités et forme avec cette dernière, les sciences de l'aléatoire. La statistique appliquée est utilisée dans presque tous les domaines de l'activité humaine : ingénierie, management, économie, biologie, informatique, etc. \n",
    "\n",
    "**« Parmi les thèmes à propos desquels les statisticiens ne sont pas d'accord, se trouve la définition de leur science.»**\n",
    ", *Maurice Kendall* \n",
    "\n"
   ]
  },
  {
   "cell_type": "markdown",
   "metadata": {},
   "source": [
    "## Vocabulaire \n",
    "\n",
    "Avant de se lancer directement dans l’exploitation des résultats, nous devons fixer quelques mots de vocabulaire. En effet, nous allons avoir beaucoup d’informations et plusieurs types de variables. Il est donc nécessaire de bien formaliser tout ceci au début.\n",
    "\n",
    "Ensemble des techniques du statisticien pour décrire, numériquement, les populations.\n",
    "\n",
    "#### La population et les individus  \n",
    "La population est l’ensemble des individus (ou unités statistiques) auxquels on décide de sintériser. Sa taille, habituellement désignée par N, est grande, ou même infinie. Le choix de la population étudiée dépend du problème qui est à l’origine de la démarche statistique, et de la façon dont on décide de le traiter.\n",
    "\n",
    "#### Univers des possibles  \n",
    "L’univers des possibles est un ensemble d’événements futurs, possibles, mais dont la réalisation ne peut pas être prédite, associés à une action appelée épreuve. L’épreuve est aléatoire quand la vraisemblance de la réalisation de chacun des événements futurs possibles associés peut être exprimée par un nombre appelé probabilité. \n",
    "Cette épreuve doit alors nécessairement pouvoir être répétée à l’identique. Alors, quand le nombre de répétitions à l’identique tend vers l’infini, la fréquence de réalisation d’un événement tend vers sa probabilité.\n",
    "On ne peut donc jamais mesurer une probabilité, seulement la calculer, ou l’estimer."
   ]
  },
  {
   "cell_type": "code",
   "execution_count": 2,
   "metadata": {},
   "outputs": [],
   "source": [
    "from IPython.display import Math"
   ]
  },
  {
   "cell_type": "markdown",
   "metadata": {},
   "source": [
    "#### Fréquence  \n",
    "Rapport d’un effectif particulier d’individus à la taille de la population. (Excel confond parfois fréquence et effectif).\n",
    "\n",
    "#### Statistique (ou paramètre statistique)  \n",
    "Tout nombre, calculé à propos d’une population, et qui contribue à décrire un aspect de cette population, est une statistique. Fréquences, médianes, quartiles, déciles, moyennes, variances, etc. sont des statistiques.\n",
    "\n",
    "#### Les variables \n",
    "Une variable est une information dont on recueille (ou observe ou mesure) la valeur sur chaque individu. On parle de variable parce que la valeur de l’information n’est pas la même d’un individu à l’autre. C’est à partir des valeurs observées que le statisticien construit ses classements d’individus. Il existe deux types de variables, les unes à valeurs numériques, et les autres à valeurs ordinales.\n",
    "- Les variables **quantitatives**, qui sont des variables à valeurs numériques, pour lesquelles les opérations arithmétiques ont un sens. Par exemple, un âge, une distance, un volume, etc.\n",
    "- Les variables **qualitatives**, où les valeurs possibles sont codées par des modalités (ou catégories). Par exemple, la couleur des yeux, le département, ou tout autre codage où les opérations arithmétiques ne sont pas correctement définies.\n",
    "\n",
    "#### Médiane, quartiles,déciles, centiles (Seulement pour une variable ordinale ou quantitative)\n",
    "Ce sont les valeurs de la variable qui correspondent respectivement à 50%, 25% 50% et 75%, 10% à 90%, 1% à 99% de l’effectif des individus rangés par valeurs croissantes.\n",
    "\n",
    "#### Variance, et sa racine carrée, l’écart-type \n",
    "Seulement pour une variable quantitative. Indicateurs de la dispersion des valeurs des individus autour de la moyenne. La variance est la moyenne des carrés des écarts à la moyenne. L’écart-type est sa racine carrée. Ce sont des statistiques de dispersion."
   ]
  },
  {
   "cell_type": "code",
   "execution_count": 9,
   "metadata": {},
   "outputs": [
    {
     "data": {
      "text/latex": [
       "$${\\sigma(X_i)}=\\frac1n\\sum_{i=1}^n(x_i-m)^2$$"
      ],
      "text/plain": [
       "<IPython.core.display.Math object>"
      ]
     },
     "execution_count": 9,
     "metadata": {},
     "output_type": "execute_result"
    }
   ],
   "source": [
    "Math(r\"{\\sigma(X_i)}=\\frac1n\\sum_{i=1}^n(x_i-m)^2\") "
   ]
  },
  {
   "cell_type": "markdown",
   "metadata": {},
   "source": [
    "#### Loi de distribution de probabilités (d’une variable aléatoire uniquement) \n",
    "Cas particulier ou les probabilités sont calculées par une fonction mathématique des valeurs (exemples de la loi binomiale et de la loi de Gauss).\n",
    "\n",
    "#### Corrélation \n",
    "Étudier la corrélation entre deux (X et Y) ou plusieurs variables aléatoires ou statistiques numériques, c’est étudier l'intensité de la liaison qui peut exister entre ces variables.\n",
    "Le type le plus simple de liaison est la relation affine. Dans le cas de deux variables numériques, elle se calcule à travers une régression linéaire. "
   ]
  },
  {
   "cell_type": "code",
   "execution_count": 4,
   "metadata": {},
   "outputs": [
    {
     "data": {
      "text/latex": [
       "$$cor(X_i, X_j) = \\frac{cov(X_i, Y_i)}{\\sigma(X_i)\\sigma(X_j)}$$"
      ],
      "text/plain": [
       "<IPython.core.display.Math object>"
      ]
     },
     "execution_count": 4,
     "metadata": {},
     "output_type": "execute_result"
    }
   ],
   "source": [
    "Math(r\"cor(X_i, X_j) = \\frac{cov(X_i, Y_i)}{\\sigma(X_i)\\sigma(X_j)}\") "
   ]
  },
  {
   "cell_type": "markdown",
   "metadata": {},
   "source": [
    "#### Espérance mathématique\n",
    "En théorie des probabilités, l'espérance mathématique d'une variable aléatoire réelle est, intuitivement, la valeur que l'on s'attend à trouver, en moyenne, si l'on répète un grand nombre de fois la même expérience aléatoire. Elle se note pour une variable X : "
   ]
  },
  {
   "cell_type": "code",
   "execution_count": 13,
   "metadata": {},
   "outputs": [
    {
     "data": {
      "text/latex": [
       "$$\\operatorname{E(X)}$$"
      ],
      "text/plain": [
       "<IPython.core.display.Math object>"
      ]
     },
     "execution_count": 13,
     "metadata": {},
     "output_type": "execute_result"
    }
   ],
   "source": [
    "Math(r'\\operatorname{E(X)}')"
   ]
  },
  {
   "cell_type": "markdown",
   "metadata": {},
   "source": [
    "#### Covariance \n",
    "La covariance entre deux variables aléatoires est un nombre permettant de quantifier leurs écarts conjoints par rapport à leurs espérances respectives. Elle s’utilise également pour deux séries de données numériques (écarts par rapport aux moyennes). La covariance est une extension de la notion de variance. La corrélation est une forme normalisée de la covariance (la dimension de la covariance entre deux variables est le produit de leurs dimensions, alors que la corrélation est une grandeur adimensionnelle). *La covariance de deux variables aléatoires indépendantes est nulle, bien que la réciproque ne soit pas toujours vraie.*"
   ]
  },
  {
   "cell_type": "code",
   "execution_count": 14,
   "metadata": {},
   "outputs": [
    {
     "data": {
      "text/latex": [
       "$$\\operatorname{Cov}(X,Y)\\equiv \\operatorname{E}[(X-\\operatorname{E}[X])\\,(Y-\\operatorname{E}[Y])]$$"
      ],
      "text/plain": [
       "<IPython.core.display.Math object>"
      ]
     },
     "execution_count": 14,
     "metadata": {},
     "output_type": "execute_result"
    }
   ],
   "source": [
    "Math(r'\\operatorname{Cov}(X,Y)\\equiv \\operatorname{E}[(X-\\operatorname{E}[X])\\,(Y-\\operatorname{E}[Y])]')"
   ]
  },
  {
   "cell_type": "markdown",
   "metadata": {},
   "source": [
    "#### Intervalle de confiance (I.C.) et niveau de confiance a)  \n",
    "Intervalle de valeurs d’une variable quantitative dont la probabilité (niveau de confiance, a) est forte (par exemple 95%). L’intervalle est \"Bilatéral\" s’il est symétrique (les probabilités des intervalles à gauche et à droite de l’I.C. sont égales à a/2), \"unilatéral\" s’il est \"cadré\" à gauche ou à droite de l’étendue des valeurs.\n",
    "\n",
    "#### Prévision  \n",
    "Information concernant le futur. En statistique, ordre de grandeur pour la valeur future, donc inconnue, d’une statistique d’échantillon aléatoire, calculée à partir de valeurs statistiques connues de la population dont il est extrait.\n",
    "\n",
    "#### Test statistique \n",
    "Procédure pour juger de la vraisemblance de la valeur d’une statistique hypothétique d’une population. On compare la valeur observée pour une statistique d’échantillon au hasard dans cette population, à celles attendues en supposant l’hypothèse vraie. On juge l’hypothèse fausse, si l’écart observé est supérieur à un seuil, fixé en fonction d’un risque d’erreur."
   ]
  },
  {
   "cell_type": "markdown",
   "metadata": {},
   "source": [
    "## Pour aller plus loin \n",
    "Pour plus de détail *google it* ! Plus sérieusement vous pouvez consulter <https://fr.wikipedia.org>, généralement on y trouve de très bon éléments de vulgarisation. En ce qui concerne la statistique descriptive à une dimension vous pouvez aussi jeter un oeil au cours en ligne de Maxime <https://zestedesavoir.com/tutoriels/1669/statistique-descriptive-a-une-dimension/>. "
   ]
  },
  {
   "cell_type": "markdown",
   "metadata": {},
   "source": [
    "## Régression\n",
    "La régression est un ensemble de méthodes statistiques très utilisées pour analyser la relation d'une variable par rapport à une ou plusieurs autres. Il existe beaucoup de modèles de régression, le modèle le plus connu est le modèle de régression linéaire, très pratique et implémenté dans tous les logiciels de calculs. \n",
    "**Lorsque le modèle n'est pas linéaire, on peut effectuer une régression approchée par des algorithmes itératifs, on parle de régression non linéaire.**\n",
    "\n",
    "### Quelques modèles de régression \n",
    "- Régression linéaire multiple\n",
    "- Régression polynomiale\n",
    "- Régression logistique\n",
    "- Modèle linéaire généralisé\n",
    "- Régression non paramétrique\n",
    "- Modèles de régression multiple postulés et non postulés\n",
    "- Régression circulaire\n",
    "- Régression elliptique\n",
    "- Régression locale\n",
    "\n",
    "### Exemple \n",
    "Voir Atelier3. "
   ]
  },
  {
   "cell_type": "code",
   "execution_count": null,
   "metadata": {},
   "outputs": [],
   "source": []
  }
 ],
 "metadata": {
  "kernelspec": {
   "display_name": "Python 3",
   "language": "python",
   "name": "python3"
  },
  "language_info": {
   "codemirror_mode": {
    "name": "ipython",
    "version": 3
   },
   "file_extension": ".py",
   "mimetype": "text/x-python",
   "name": "python",
   "nbconvert_exporter": "python",
   "pygments_lexer": "ipython3",
   "version": "3.6.2"
  }
 },
 "nbformat": 4,
 "nbformat_minor": 2
}
