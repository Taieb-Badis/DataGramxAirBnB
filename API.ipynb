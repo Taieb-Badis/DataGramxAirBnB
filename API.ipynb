{
 "cells": [
  {
   "cell_type": "markdown",
   "metadata": {},
   "source": [
    "# Les API \n",
    "En informatique, une interface de programmation applicative (souvent désignée par le terme API pour *Application Programming Interface*) est un ensemble normalisé de classes, de méthodes ou de fonctions qui sert de façade par laquelle un logiciel offre des services à d'autres logiciels. Elle est offerte par une bibliothèque logicielle ou un service web, le plus souvent accompagnée d'une description qui spécifie comment des programmes consommateurs peuvent se servir des fonctionnalités du programme fournisseur.\n",
    "\n",
    "\n"
   ]
  },
  {
   "cell_type": "markdown",
   "metadata": {},
   "source": [
    "## Pourquoi utiliser les API \n",
    "Imaginez que vous ayez un site web pour y exposer vos créations (vous êtes artiste). Vous faites de l'art et vous voulez que les gens soient capables d’acheter vos oeuvres. Vous avez déjà construit votre site pour les montrer, *mais maintenant vous avez besoin d’intégrer un système de paiement*. Concevoir le code pour prendre en charge toutes les cartes bancaires serait incroyablement difficile, donc vous décidez d’utiliser un système extérieur comme PayPal, et de l’intégrer dans votre site.\n",
    "\n",
    "Pour trouver l'API de Paypal, il suffit de chercher “PayPal API” sur Internet. C’est une technique que vous pouvez utiliser pour trouver quasiment toutes les API des sites qui en proposent.\n"
   ]
  },
  {
   "cell_type": "markdown",
   "metadata": {},
   "source": [
    "\n",
    "## Le principe \n",
    "Il y a de multiples types d’API et c’est à vous de choisir celle qui s’adapte le mieux à vos besoins. Dans ce cours, nous nous restreindrons aux API “REST”, qui sont propres et polyvalentes pour beaucoup de types d’échange d’information entre logiciels. REST signifie “Representational State Transfer”.\n",
    "\n"
   ]
  },
  {
   "cell_type": "markdown",
   "metadata": {},
   "source": [
    "\n",
    "## Google et ses API  \n",
    "Google, est un vrai trésor d’API, notamment via le développement de leur branche en Cloud Services. Google Cloud est une plateforme de Cloud Computing opérée par Google et disponible sur toute la planète. La plateforme fournit des services pour opérer une infrastructure entièrement gérée et de tout type : Calcul, Réseau, Conteneurs, Big Data, Machine Learning, et bien d’autres. Les services offerts sont équivalents à ceux d’Amazon Web Services et ceux de Microsoft Azure. \n",
    "\n"
   ]
  },
  {
   "cell_type": "markdown",
   "metadata": {},
   "source": [
    "## L'API Google Map \n",
    "Malheureusement, depuis juillet 2018 Google a changé sa politique concernant l'utilisation de son API Google Map. C'est ce qui vous permet d'afficher une carte qui géolocalise les points relais disponibles pour vos clients. Pour afficher une carte Google Maps, il est nécessaire de spécifier une *clé d'API*. Nous allons voir dans cette séance comment l'obtenir et l'utiliser.\n",
    "\n"
   ]
  },
  {
   "cell_type": "code",
   "execution_count": null,
   "metadata": {},
   "outputs": [],
   "source": []
  }
 ],
 "metadata": {
  "kernelspec": {
   "display_name": "Python 3",
   "language": "python",
   "name": "python3"
  },
  "language_info": {
   "codemirror_mode": {
    "name": "ipython",
    "version": 3
   },
   "file_extension": ".py",
   "mimetype": "text/x-python",
   "name": "python",
   "nbconvert_exporter": "python",
   "pygments_lexer": "ipython3",
   "version": "3.6.2"
  }
 },
 "nbformat": 4,
 "nbformat_minor": 2
}
