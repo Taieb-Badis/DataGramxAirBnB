{
 "cells": [
  {
   "cell_type": "markdown",
   "metadata": {},
   "source": [
    "# Mini-Challenges - Atelier 7"
   ]
  },
  {
   "cell_type": "code",
   "execution_count": 123,
   "metadata": {},
   "outputs": [
    {
     "name": "stdout",
     "output_type": "stream",
     "text": [
      "Chargement des données effectué.\n"
     ]
    }
   ],
   "source": [
    "import numpy as np\n",
    "import pandas as pd\n",
    "import matplotlib.pyplot as plt\n",
    "\n",
    "from sklearn.preprocessing import LabelEncoder, OneHotEncoder\n",
    "\n",
    "prices = pd.read_csv(\"../data/price_availability.csv\", sep=\";\")\n",
    "listings = pd.read_csv(\"../clean/listings_final.csv\", sep=\";\")\n",
    "intersects = np.intersect1d(np.unique(prices['listing_id']), np.unique(listings['listing_id']))\n",
    "listings_prices = prices[prices['listing_id'].isin(intersects)]\n",
    "\n",
    "# Plus le droit d'utiliser ces variables !\n",
    "del prices\n",
    "del intersects\n",
    "\n",
    "print(\"Chargement des données effectué.\")"
   ]
  },
  {
   "cell_type": "markdown",
   "metadata": {},
   "source": [
    "## Lexique :\n",
    "\n",
    "- **(J)** signifie que la réponse est similaire à un code déjà présent dans un notebook de l'atelier précédent.\n",
    "- **(!)** signifie que la question est difficile et demande éventuellement une recherche plus approfondie que les autres."
   ]
  },
  {
   "cell_type": "code",
   "execution_count": 127,
   "metadata": {},
   "outputs": [
    {
     "data": {
      "text/html": [
       "<div>\n",
       "<style scoped>\n",
       "    .dataframe tbody tr th:only-of-type {\n",
       "        vertical-align: middle;\n",
       "    }\n",
       "\n",
       "    .dataframe tbody tr th {\n",
       "        vertical-align: top;\n",
       "    }\n",
       "\n",
       "    .dataframe thead th {\n",
       "        text-align: right;\n",
       "    }\n",
       "</style>\n",
       "<table border=\"1\" class=\"dataframe\">\n",
       "  <thead>\n",
       "    <tr style=\"text-align: right;\">\n",
       "      <th></th>\n",
       "      <th>listing_id</th>\n",
       "      <th>day</th>\n",
       "      <th>created</th>\n",
       "      <th>available</th>\n",
       "      <th>local_currency</th>\n",
       "      <th>local_price</th>\n",
       "      <th>min_nights</th>\n",
       "    </tr>\n",
       "  </thead>\n",
       "  <tbody>\n",
       "    <tr>\n",
       "      <th>94</th>\n",
       "      <td>17757345</td>\n",
       "      <td>2018-10-14</td>\n",
       "      <td>2018-09-27 10:40:07.000+0000</td>\n",
       "      <td>False</td>\n",
       "      <td>EUR</td>\n",
       "      <td>40</td>\n",
       "      <td>1</td>\n",
       "    </tr>\n",
       "    <tr>\n",
       "      <th>95</th>\n",
       "      <td>17757345</td>\n",
       "      <td>2018-10-14</td>\n",
       "      <td>2018-09-27 06:05:54.000+0000</td>\n",
       "      <td>False</td>\n",
       "      <td>EUR</td>\n",
       "      <td>40</td>\n",
       "      <td>1</td>\n",
       "    </tr>\n",
       "    <tr>\n",
       "      <th>96</th>\n",
       "      <td>17757345</td>\n",
       "      <td>2018-10-14</td>\n",
       "      <td>2018-09-26 19:31:41.000+0000</td>\n",
       "      <td>False</td>\n",
       "      <td>EUR</td>\n",
       "      <td>40</td>\n",
       "      <td>1</td>\n",
       "    </tr>\n",
       "    <tr>\n",
       "      <th>297</th>\n",
       "      <td>2581464</td>\n",
       "      <td>2019-01-05</td>\n",
       "      <td>2018-09-27 10:40:54.000+0000</td>\n",
       "      <td>True</td>\n",
       "      <td>EUR</td>\n",
       "      <td>78</td>\n",
       "      <td>2</td>\n",
       "    </tr>\n",
       "    <tr>\n",
       "      <th>298</th>\n",
       "      <td>2581464</td>\n",
       "      <td>2019-01-05</td>\n",
       "      <td>2018-09-27 06:06:46.000+0000</td>\n",
       "      <td>True</td>\n",
       "      <td>EUR</td>\n",
       "      <td>78</td>\n",
       "      <td>2</td>\n",
       "    </tr>\n",
       "  </tbody>\n",
       "</table>\n",
       "</div>"
      ],
      "text/plain": [
       "     listing_id         day                       created  available  \\\n",
       "94     17757345  2018-10-14  2018-09-27 10:40:07.000+0000      False   \n",
       "95     17757345  2018-10-14  2018-09-27 06:05:54.000+0000      False   \n",
       "96     17757345  2018-10-14  2018-09-26 19:31:41.000+0000      False   \n",
       "297     2581464  2019-01-05  2018-09-27 10:40:54.000+0000       True   \n",
       "298     2581464  2019-01-05  2018-09-27 06:06:46.000+0000       True   \n",
       "\n",
       "    local_currency  local_price  min_nights  \n",
       "94             EUR           40           1  \n",
       "95             EUR           40           1  \n",
       "96             EUR           40           1  \n",
       "297            EUR           78           2  \n",
       "298            EUR           78           2  "
      ]
     },
     "execution_count": 127,
     "metadata": {},
     "output_type": "execute_result"
    }
   ],
   "source": [
    "listings_prices.head()"
   ]
  },
  {
   "cell_type": "markdown",
   "metadata": {},
   "source": [
    "## (J) Question 4\n",
    "\n",
    "**Regrouper les appartements par ID listing et par plage de 14 jours.**"
   ]
  },
  {
   "cell_type": "code",
   "execution_count": 148,
   "metadata": {},
   "outputs": [
    {
     "name": "stdout",
     "output_type": "stream",
     "text": [
      "Nombre d'individus : 9990\n"
     ]
    },
    {
     "data": {
      "text/html": [
       "<div>\n",
       "<style scoped>\n",
       "    .dataframe tbody tr th:only-of-type {\n",
       "        vertical-align: middle;\n",
       "    }\n",
       "\n",
       "    .dataframe tbody tr th {\n",
       "        vertical-align: top;\n",
       "    }\n",
       "\n",
       "    .dataframe thead th {\n",
       "        text-align: right;\n",
       "    }\n",
       "</style>\n",
       "<table border=\"1\" class=\"dataframe\">\n",
       "  <thead>\n",
       "    <tr style=\"text-align: right;\">\n",
       "      <th></th>\n",
       "      <th>listing_id</th>\n",
       "      <th>date</th>\n",
       "      <th>available</th>\n",
       "      <th>local_price</th>\n",
       "      <th>min_nights</th>\n",
       "    </tr>\n",
       "  </thead>\n",
       "  <tbody>\n",
       "    <tr>\n",
       "      <th>0</th>\n",
       "      <td>56093</td>\n",
       "      <td>2018-08-27</td>\n",
       "      <td>0.0</td>\n",
       "      <td>170.0</td>\n",
       "      <td>4.0</td>\n",
       "    </tr>\n",
       "    <tr>\n",
       "      <th>1</th>\n",
       "      <td>56093</td>\n",
       "      <td>2018-09-10</td>\n",
       "      <td>0.0</td>\n",
       "      <td>170.0</td>\n",
       "      <td>4.0</td>\n",
       "    </tr>\n",
       "    <tr>\n",
       "      <th>2</th>\n",
       "      <td>56093</td>\n",
       "      <td>2018-09-24</td>\n",
       "      <td>0.0</td>\n",
       "      <td>170.0</td>\n",
       "      <td>4.0</td>\n",
       "    </tr>\n",
       "    <tr>\n",
       "      <th>3</th>\n",
       "      <td>56093</td>\n",
       "      <td>2018-10-08</td>\n",
       "      <td>0.0</td>\n",
       "      <td>170.0</td>\n",
       "      <td>4.0</td>\n",
       "    </tr>\n",
       "    <tr>\n",
       "      <th>4</th>\n",
       "      <td>56093</td>\n",
       "      <td>2018-10-22</td>\n",
       "      <td>0.0</td>\n",
       "      <td>170.0</td>\n",
       "      <td>4.0</td>\n",
       "    </tr>\n",
       "  </tbody>\n",
       "</table>\n",
       "</div>"
      ],
      "text/plain": [
       "   listing_id       date  available  local_price  min_nights\n",
       "0       56093 2018-08-27        0.0        170.0         4.0\n",
       "1       56093 2018-09-10        0.0        170.0         4.0\n",
       "2       56093 2018-09-24        0.0        170.0         4.0\n",
       "3       56093 2018-10-08        0.0        170.0         4.0\n",
       "4       56093 2018-10-22        0.0        170.0         4.0"
      ]
     },
     "execution_count": 148,
     "metadata": {},
     "output_type": "execute_result"
    }
   ],
   "source": [
    "dates =  pd.to_datetime(listings_prices[\"day\"], format='%Y-%m-%d')\n",
    "range_prices = listings_prices.assign(date=dates).set_index(dates).groupby(['listing_id', pd.Grouper(key='date', freq='14D')]).mean().reset_index()\n",
    "print(\"Nombre d'individus :\", range_prices.shape[0])\n",
    "range_prices.head()"
   ]
  },
  {
   "cell_type": "markdown",
   "metadata": {},
   "source": [
    "## Question 5\n",
    "\n",
    "**Considérer uniquement les appartements dont le nombre de nuit consécutives minimal est situé entre 2 (inclus) et 7 (exclus) nuits.**"
   ]
  },
  {
   "cell_type": "code",
   "execution_count": 149,
   "metadata": {},
   "outputs": [
    {
     "name": "stdout",
     "output_type": "stream",
     "text": [
      "Nombre d'individus : 6515\n"
     ]
    },
    {
     "data": {
      "text/html": [
       "<div>\n",
       "<style scoped>\n",
       "    .dataframe tbody tr th:only-of-type {\n",
       "        vertical-align: middle;\n",
       "    }\n",
       "\n",
       "    .dataframe tbody tr th {\n",
       "        vertical-align: top;\n",
       "    }\n",
       "\n",
       "    .dataframe thead th {\n",
       "        text-align: right;\n",
       "    }\n",
       "</style>\n",
       "<table border=\"1\" class=\"dataframe\">\n",
       "  <thead>\n",
       "    <tr style=\"text-align: right;\">\n",
       "      <th></th>\n",
       "      <th>listing_id</th>\n",
       "      <th>date</th>\n",
       "      <th>available</th>\n",
       "      <th>local_price</th>\n",
       "      <th>min_nights</th>\n",
       "    </tr>\n",
       "  </thead>\n",
       "  <tbody>\n",
       "    <tr>\n",
       "      <th>0</th>\n",
       "      <td>56093</td>\n",
       "      <td>2018-08-27</td>\n",
       "      <td>0.0</td>\n",
       "      <td>170.0</td>\n",
       "      <td>4.0</td>\n",
       "    </tr>\n",
       "    <tr>\n",
       "      <th>1</th>\n",
       "      <td>56093</td>\n",
       "      <td>2018-09-10</td>\n",
       "      <td>0.0</td>\n",
       "      <td>170.0</td>\n",
       "      <td>4.0</td>\n",
       "    </tr>\n",
       "    <tr>\n",
       "      <th>2</th>\n",
       "      <td>56093</td>\n",
       "      <td>2018-09-24</td>\n",
       "      <td>0.0</td>\n",
       "      <td>170.0</td>\n",
       "      <td>4.0</td>\n",
       "    </tr>\n",
       "    <tr>\n",
       "      <th>3</th>\n",
       "      <td>56093</td>\n",
       "      <td>2018-10-08</td>\n",
       "      <td>0.0</td>\n",
       "      <td>170.0</td>\n",
       "      <td>4.0</td>\n",
       "    </tr>\n",
       "    <tr>\n",
       "      <th>4</th>\n",
       "      <td>56093</td>\n",
       "      <td>2018-10-22</td>\n",
       "      <td>0.0</td>\n",
       "      <td>170.0</td>\n",
       "      <td>4.0</td>\n",
       "    </tr>\n",
       "  </tbody>\n",
       "</table>\n",
       "</div>"
      ],
      "text/plain": [
       "   listing_id       date  available  local_price  min_nights\n",
       "0       56093 2018-08-27        0.0        170.0         4.0\n",
       "1       56093 2018-09-10        0.0        170.0         4.0\n",
       "2       56093 2018-09-24        0.0        170.0         4.0\n",
       "3       56093 2018-10-08        0.0        170.0         4.0\n",
       "4       56093 2018-10-22        0.0        170.0         4.0"
      ]
     },
     "execution_count": 149,
     "metadata": {},
     "output_type": "execute_result"
    }
   ],
   "source": [
    "range_prices_nights = range_prices[(range_prices['min_nights'] >= 2) & (range_prices['min_nights'] < 7)]\n",
    "print(\"Nombre d'individus :\", range_prices_nights.shape[0])\n",
    "range_prices_nights.head()"
   ]
  },
  {
   "cell_type": "markdown",
   "metadata": {},
   "source": [
    "## (J) Question 6\n",
    "\n",
    "**Y a-t-il des appartements qui ont été supprimés ? Si oui, combien en reste-il ?**"
   ]
  },
  {
   "cell_type": "code",
   "execution_count": 150,
   "metadata": {},
   "outputs": [
    {
     "name": "stdout",
     "output_type": "stream",
     "text": [
      "Nombre d'appartements restants : 669\n"
     ]
    }
   ],
   "source": [
    "intersect_nights = np.intersect1d(np.unique(range_prices['listing_id']),\n",
    "                                  np.unique(range_prices_nights['listing_id']))\n",
    "print(\"Nombre d'appartements restants :\", len(intersect_nights))"
   ]
  },
  {
   "cell_type": "markdown",
   "metadata": {},
   "source": [
    "## (J) Question 7\n",
    "\n",
    "**Effectuer une encodage par dictionnaire sur la date dans une nouvelle colonne nommée *date_dict***."
   ]
  },
  {
   "cell_type": "code",
   "execution_count": 151,
   "metadata": {},
   "outputs": [
    {
     "name": "stderr",
     "output_type": "stream",
     "text": [
      "/home/maxime/lubot/lib/python3.5/site-packages/ipykernel_launcher.py:2: SettingWithCopyWarning: \n",
      "A value is trying to be set on a copy of a slice from a DataFrame.\n",
      "Try using .loc[row_indexer,col_indexer] = value instead\n",
      "\n",
      "See the caveats in the documentation: http://pandas.pydata.org/pandas-docs/stable/indexing.html#indexing-view-versus-copy\n",
      "  \n"
     ]
    },
    {
     "data": {
      "text/html": [
       "<div>\n",
       "<style scoped>\n",
       "    .dataframe tbody tr th:only-of-type {\n",
       "        vertical-align: middle;\n",
       "    }\n",
       "\n",
       "    .dataframe tbody tr th {\n",
       "        vertical-align: top;\n",
       "    }\n",
       "\n",
       "    .dataframe thead th {\n",
       "        text-align: right;\n",
       "    }\n",
       "</style>\n",
       "<table border=\"1\" class=\"dataframe\">\n",
       "  <thead>\n",
       "    <tr style=\"text-align: right;\">\n",
       "      <th></th>\n",
       "      <th>listing_id</th>\n",
       "      <th>date</th>\n",
       "      <th>available</th>\n",
       "      <th>local_price</th>\n",
       "      <th>min_nights</th>\n",
       "      <th>date_dict</th>\n",
       "    </tr>\n",
       "  </thead>\n",
       "  <tbody>\n",
       "    <tr>\n",
       "      <th>0</th>\n",
       "      <td>56093</td>\n",
       "      <td>2018-08-27</td>\n",
       "      <td>0.0</td>\n",
       "      <td>170.0</td>\n",
       "      <td>4.0</td>\n",
       "      <td>0</td>\n",
       "    </tr>\n",
       "    <tr>\n",
       "      <th>1</th>\n",
       "      <td>56093</td>\n",
       "      <td>2018-09-10</td>\n",
       "      <td>0.0</td>\n",
       "      <td>170.0</td>\n",
       "      <td>4.0</td>\n",
       "      <td>1</td>\n",
       "    </tr>\n",
       "    <tr>\n",
       "      <th>2</th>\n",
       "      <td>56093</td>\n",
       "      <td>2018-09-24</td>\n",
       "      <td>0.0</td>\n",
       "      <td>170.0</td>\n",
       "      <td>4.0</td>\n",
       "      <td>2</td>\n",
       "    </tr>\n",
       "    <tr>\n",
       "      <th>3</th>\n",
       "      <td>56093</td>\n",
       "      <td>2018-10-08</td>\n",
       "      <td>0.0</td>\n",
       "      <td>170.0</td>\n",
       "      <td>4.0</td>\n",
       "      <td>3</td>\n",
       "    </tr>\n",
       "    <tr>\n",
       "      <th>4</th>\n",
       "      <td>56093</td>\n",
       "      <td>2018-10-22</td>\n",
       "      <td>0.0</td>\n",
       "      <td>170.0</td>\n",
       "      <td>4.0</td>\n",
       "      <td>4</td>\n",
       "    </tr>\n",
       "  </tbody>\n",
       "</table>\n",
       "</div>"
      ],
      "text/plain": [
       "   listing_id       date  available  local_price  min_nights  date_dict\n",
       "0       56093 2018-08-27        0.0        170.0         4.0          0\n",
       "1       56093 2018-09-10        0.0        170.0         4.0          1\n",
       "2       56093 2018-09-24        0.0        170.0         4.0          2\n",
       "3       56093 2018-10-08        0.0        170.0         4.0          3\n",
       "4       56093 2018-10-22        0.0        170.0         4.0          4"
      ]
     },
     "execution_count": 151,
     "metadata": {},
     "output_type": "execute_result"
    }
   ],
   "source": [
    "dict_encoder = LabelEncoder()\n",
    "range_prices_nights['date_dict'] = dict_encoder.fit_transform(range_prices_nights['date'])\n",
    "range_prices_nights.head()"
   ]
  },
  {
   "cell_type": "markdown",
   "metadata": {},
   "source": [
    "## (J) Question 8\n",
    "\n",
    "**Stocker dans la variable *one_hot_dates* l'encodage one-hot des dates.**"
   ]
  },
  {
   "cell_type": "code",
   "execution_count": 152,
   "metadata": {},
   "outputs": [
    {
     "data": {
      "text/plain": [
       "(6515, 10)"
      ]
     },
     "execution_count": 152,
     "metadata": {},
     "output_type": "execute_result"
    }
   ],
   "source": [
    "one_hot_encoder = OneHotEncoder(sparse=False)\n",
    "date_labels = range_prices_nights['date_dict'].values.reshape(len(range_prices_nights), 1)\n",
    "one_hot_dates = one_hot_encoder.fit_transform(date_labels)\n",
    "one_hot_dates.shape"
   ]
  },
  {
   "cell_type": "markdown",
   "metadata": {},
   "source": [
    "## (!) Question 9\n",
    "\n",
    "**Ajouter la matrice de vecteurs one-hot au DataFrame *range_prices_nights* et stocker dans un nouveau DataFrame nommé *dataset*.**"
   ]
  },
  {
   "cell_type": "code",
   "execution_count": 161,
   "metadata": {},
   "outputs": [
    {
     "data": {
      "text/html": [
       "<div>\n",
       "<style scoped>\n",
       "    .dataframe tbody tr th:only-of-type {\n",
       "        vertical-align: middle;\n",
       "    }\n",
       "\n",
       "    .dataframe tbody tr th {\n",
       "        vertical-align: top;\n",
       "    }\n",
       "\n",
       "    .dataframe thead th {\n",
       "        text-align: right;\n",
       "    }\n",
       "</style>\n",
       "<table border=\"1\" class=\"dataframe\">\n",
       "  <thead>\n",
       "    <tr style=\"text-align: right;\">\n",
       "      <th></th>\n",
       "      <th>listing_id</th>\n",
       "      <th>date</th>\n",
       "      <th>available</th>\n",
       "      <th>local_price</th>\n",
       "      <th>min_nights</th>\n",
       "      <th>date_dict</th>\n",
       "      <th>oh_1</th>\n",
       "      <th>oh_2</th>\n",
       "      <th>oh_3</th>\n",
       "      <th>oh_4</th>\n",
       "      <th>oh_5</th>\n",
       "      <th>oh_6</th>\n",
       "      <th>oh_7</th>\n",
       "      <th>oh_8</th>\n",
       "      <th>oh_9</th>\n",
       "      <th>oh_10</th>\n",
       "    </tr>\n",
       "  </thead>\n",
       "  <tbody>\n",
       "    <tr>\n",
       "      <th>0</th>\n",
       "      <td>56093</td>\n",
       "      <td>2018-08-27</td>\n",
       "      <td>0.0</td>\n",
       "      <td>170.0</td>\n",
       "      <td>4.0</td>\n",
       "      <td>0</td>\n",
       "      <td>1.0</td>\n",
       "      <td>0.0</td>\n",
       "      <td>0.0</td>\n",
       "      <td>0.0</td>\n",
       "      <td>0.0</td>\n",
       "      <td>0.0</td>\n",
       "      <td>0.0</td>\n",
       "      <td>0.0</td>\n",
       "      <td>0.0</td>\n",
       "      <td>0.0</td>\n",
       "    </tr>\n",
       "    <tr>\n",
       "      <th>1</th>\n",
       "      <td>56093</td>\n",
       "      <td>2018-09-10</td>\n",
       "      <td>0.0</td>\n",
       "      <td>170.0</td>\n",
       "      <td>4.0</td>\n",
       "      <td>1</td>\n",
       "      <td>0.0</td>\n",
       "      <td>1.0</td>\n",
       "      <td>0.0</td>\n",
       "      <td>0.0</td>\n",
       "      <td>0.0</td>\n",
       "      <td>0.0</td>\n",
       "      <td>0.0</td>\n",
       "      <td>0.0</td>\n",
       "      <td>0.0</td>\n",
       "      <td>0.0</td>\n",
       "    </tr>\n",
       "    <tr>\n",
       "      <th>2</th>\n",
       "      <td>56093</td>\n",
       "      <td>2018-09-24</td>\n",
       "      <td>0.0</td>\n",
       "      <td>170.0</td>\n",
       "      <td>4.0</td>\n",
       "      <td>2</td>\n",
       "      <td>0.0</td>\n",
       "      <td>0.0</td>\n",
       "      <td>1.0</td>\n",
       "      <td>0.0</td>\n",
       "      <td>0.0</td>\n",
       "      <td>0.0</td>\n",
       "      <td>0.0</td>\n",
       "      <td>0.0</td>\n",
       "      <td>0.0</td>\n",
       "      <td>0.0</td>\n",
       "    </tr>\n",
       "    <tr>\n",
       "      <th>3</th>\n",
       "      <td>56093</td>\n",
       "      <td>2018-10-08</td>\n",
       "      <td>0.0</td>\n",
       "      <td>170.0</td>\n",
       "      <td>4.0</td>\n",
       "      <td>3</td>\n",
       "      <td>0.0</td>\n",
       "      <td>0.0</td>\n",
       "      <td>0.0</td>\n",
       "      <td>1.0</td>\n",
       "      <td>0.0</td>\n",
       "      <td>0.0</td>\n",
       "      <td>0.0</td>\n",
       "      <td>0.0</td>\n",
       "      <td>0.0</td>\n",
       "      <td>0.0</td>\n",
       "    </tr>\n",
       "    <tr>\n",
       "      <th>4</th>\n",
       "      <td>56093</td>\n",
       "      <td>2018-10-22</td>\n",
       "      <td>0.0</td>\n",
       "      <td>170.0</td>\n",
       "      <td>4.0</td>\n",
       "      <td>4</td>\n",
       "      <td>0.0</td>\n",
       "      <td>0.0</td>\n",
       "      <td>0.0</td>\n",
       "      <td>0.0</td>\n",
       "      <td>1.0</td>\n",
       "      <td>0.0</td>\n",
       "      <td>0.0</td>\n",
       "      <td>0.0</td>\n",
       "      <td>0.0</td>\n",
       "      <td>0.0</td>\n",
       "    </tr>\n",
       "  </tbody>\n",
       "</table>\n",
       "</div>"
      ],
      "text/plain": [
       "   listing_id       date  available  local_price  min_nights  date_dict  oh_1  \\\n",
       "0       56093 2018-08-27        0.0        170.0         4.0          0   1.0   \n",
       "1       56093 2018-09-10        0.0        170.0         4.0          1   0.0   \n",
       "2       56093 2018-09-24        0.0        170.0         4.0          2   0.0   \n",
       "3       56093 2018-10-08        0.0        170.0         4.0          3   0.0   \n",
       "4       56093 2018-10-22        0.0        170.0         4.0          4   0.0   \n",
       "\n",
       "   oh_2  oh_3  oh_4  oh_5  oh_6  oh_7  oh_8  oh_9  oh_10  \n",
       "0   0.0   0.0   0.0   0.0   0.0   0.0   0.0   0.0    0.0  \n",
       "1   1.0   0.0   0.0   0.0   0.0   0.0   0.0   0.0    0.0  \n",
       "2   0.0   1.0   0.0   0.0   0.0   0.0   0.0   0.0    0.0  \n",
       "3   0.0   0.0   1.0   0.0   0.0   0.0   0.0   0.0    0.0  \n",
       "4   0.0   0.0   0.0   1.0   0.0   0.0   0.0   0.0    0.0  "
      ]
     },
     "execution_count": 161,
     "metadata": {},
     "output_type": "execute_result"
    }
   ],
   "source": [
    "dataset = range_prices_nights.copy()\n",
    "for i in range(one_hot_dates.shape[1]):\n",
    "    dataset['oh_' + str(i + 1)] = one_hot_dates[:, i]\n",
    "dataset.head()"
   ]
  },
  {
   "cell_type": "markdown",
   "metadata": {},
   "source": [
    "Si tout se passe bien, il devrait y avoir le même nombre d'individus :"
   ]
  },
  {
   "cell_type": "code",
   "execution_count": 166,
   "metadata": {},
   "outputs": [
    {
     "name": "stdout",
     "output_type": "stream",
     "text": [
      "Tout est OK !\n"
     ]
    }
   ],
   "source": [
    "if dataset.shape[0] != range_prices_nights.shape[0]:\n",
    "    raise ValueError(\"ERREUR : Il n'y a pas le bon nombre d'individus !\")\n",
    "print(\"Tout est OK !\")"
   ]
  },
  {
   "cell_type": "code",
   "execution_count": null,
   "metadata": {},
   "outputs": [],
   "source": []
  }
 ],
 "metadata": {
  "kernelspec": {
   "display_name": "Python 3",
   "language": "python",
   "name": "python3"
  },
  "language_info": {
   "codemirror_mode": {
    "name": "ipython",
    "version": 3
   },
   "file_extension": ".py",
   "mimetype": "text/x-python",
   "name": "python",
   "nbconvert_exporter": "python",
   "pygments_lexer": "ipython3",
   "version": "3.5.2"
  }
 },
 "nbformat": 4,
 "nbformat_minor": 2
}
