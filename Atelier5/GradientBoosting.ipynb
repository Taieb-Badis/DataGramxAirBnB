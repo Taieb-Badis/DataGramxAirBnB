{
 "cells": [
  {
   "cell_type": "markdown",
   "metadata": {},
   "source": [
    "# Gradient Boosting et XGBoost"
   ]
  },
  {
   "cell_type": "markdown",
   "metadata": {},
   "source": [
    "Le **boosting** est une technique de réduction du biais et de la variance utilisé en appretissage supervisé. L'idée sous-jacente est de construire un modèle complexe à partir de plusieurs modèles simples, dits *faibles*.\n",
    "\n",
    "Considérons un classifieur faible initial $f_0$. Après l'avoir optimisé, la méthode de boosting cherche à construire un nouveau classifieur faible $f_1$ à partir de $f_0$ en introduction un terme *de résidu* $h$ :\n",
    "$$f_1(x)=f_0(x) + h(x)$$\n",
    "De sorte que $f_1$ soit *plus performant* que $f_0$. On répétant l'opération un certain nombre de fois, disons $p$, on construit un classifieur final $F$ complexe qui est une combinaison linéaire des $f_i$, où chacun des $f_i$ est associé à un poids $\\alpha_i$ :\n",
    "\n",
    "$$F(x)=\\sum_{i=1}^n \\alpha_i f_i(x)$$"
   ]
  },
  {
   "cell_type": "code",
   "execution_count": null,
   "metadata": {},
   "outputs": [],
   "source": []
  }
 ],
 "metadata": {
  "kernelspec": {
   "display_name": "Python 3",
   "language": "python",
   "name": "python3"
  },
  "language_info": {
   "codemirror_mode": {
    "name": "ipython",
    "version": 3
   },
   "file_extension": ".py",
   "mimetype": "text/x-python",
   "name": "python",
   "nbconvert_exporter": "python",
   "pygments_lexer": "ipython3",
   "version": "3.5.2"
  }
 },
 "nbformat": 4,
 "nbformat_minor": 2
}
