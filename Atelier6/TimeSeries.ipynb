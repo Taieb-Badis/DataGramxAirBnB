{
 "cells": [
  {
   "cell_type": "markdown",
   "metadata": {},
   "source": [
    "# Séries temporelles des prix\n",
    "\n",
    "Pour chaque appartement, nous avons une série de prix pour une date donnée. L'objectif est d'étudier les séries temporelles des prix et de pouvoir effectuer des opérations dessus.\n",
    "\n",
    "Une série temporelle est défini comme un processus discret $(X_t)_{t \\in \\mathbb{N}}$ à valeurs dans $\\mathbb{R}$. Ici, on associe à chaque appartement une série temporelle, et le prix à la date $t$ se note $X_t$."
   ]
  },
  {
   "cell_type": "markdown",
   "metadata": {},
   "source": [
    "## Chargement des données"
   ]
  },
  {
   "cell_type": "code",
   "execution_count": 1,
   "metadata": {},
   "outputs": [],
   "source": [
    "import numpy as np\n",
    "import pandas as pd\n",
    "import matplotlib.pyplot as plt\n",
    "\n",
    "from datetime import datetime"
   ]
  },
  {
   "cell_type": "code",
   "execution_count": 2,
   "metadata": {},
   "outputs": [
    {
     "name": "stdout",
     "output_type": "stream",
     "text": [
      "Chargement des données effectué.\n"
     ]
    }
   ],
   "source": [
    "prices = pd.read_csv(\"/home/maxime/Documents/Hackademy/Codes Formations/Datagram_AirBnB/data/price_availability.csv\", sep=\";\")\n",
    "# Le fichier de prix est à télécharger ! (308 Mo)\n",
    "listings = pd.read_csv(\"../clean/listings_final.csv\", sep=\";\")\n",
    "print(\"Chargement des données effectué.\")"
   ]
  },
  {
   "cell_type": "markdown",
   "metadata": {},
   "source": [
    "Regardons quelques observations"
   ]
  },
  {
   "cell_type": "code",
   "execution_count": 3,
   "metadata": {},
   "outputs": [
    {
     "data": {
      "text/html": [
       "<div>\n",
       "<style scoped>\n",
       "    .dataframe tbody tr th:only-of-type {\n",
       "        vertical-align: middle;\n",
       "    }\n",
       "\n",
       "    .dataframe tbody tr th {\n",
       "        vertical-align: top;\n",
       "    }\n",
       "\n",
       "    .dataframe thead th {\n",
       "        text-align: right;\n",
       "    }\n",
       "</style>\n",
       "<table border=\"1\" class=\"dataframe\">\n",
       "  <thead>\n",
       "    <tr style=\"text-align: right;\">\n",
       "      <th></th>\n",
       "      <th>listing_id</th>\n",
       "      <th>day</th>\n",
       "      <th>created</th>\n",
       "      <th>available</th>\n",
       "      <th>local_currency</th>\n",
       "      <th>local_price</th>\n",
       "      <th>min_nights</th>\n",
       "    </tr>\n",
       "  </thead>\n",
       "  <tbody>\n",
       "    <tr>\n",
       "      <th>0</th>\n",
       "      <td>9810829</td>\n",
       "      <td>2018-12-08</td>\n",
       "      <td>2018-09-27 06:14:10.000+0000</td>\n",
       "      <td>True</td>\n",
       "      <td>EUR</td>\n",
       "      <td>160</td>\n",
       "      <td>1</td>\n",
       "    </tr>\n",
       "    <tr>\n",
       "      <th>1</th>\n",
       "      <td>9810829</td>\n",
       "      <td>2018-12-08</td>\n",
       "      <td>2018-09-26 19:34:02.000+0000</td>\n",
       "      <td>True</td>\n",
       "      <td>EUR</td>\n",
       "      <td>160</td>\n",
       "      <td>1</td>\n",
       "    </tr>\n",
       "    <tr>\n",
       "      <th>2</th>\n",
       "      <td>20897010</td>\n",
       "      <td>2018-12-09</td>\n",
       "      <td>2018-09-27 10:38:57.000+0000</td>\n",
       "      <td>True</td>\n",
       "      <td>EUR</td>\n",
       "      <td>172</td>\n",
       "      <td>2</td>\n",
       "    </tr>\n",
       "    <tr>\n",
       "      <th>3</th>\n",
       "      <td>20897010</td>\n",
       "      <td>2018-12-09</td>\n",
       "      <td>2018-09-27 06:10:27.000+0000</td>\n",
       "      <td>True</td>\n",
       "      <td>EUR</td>\n",
       "      <td>172</td>\n",
       "      <td>2</td>\n",
       "    </tr>\n",
       "    <tr>\n",
       "      <th>4</th>\n",
       "      <td>20897010</td>\n",
       "      <td>2018-12-09</td>\n",
       "      <td>2018-09-26 19:30:25.000+0000</td>\n",
       "      <td>True</td>\n",
       "      <td>EUR</td>\n",
       "      <td>172</td>\n",
       "      <td>2</td>\n",
       "    </tr>\n",
       "    <tr>\n",
       "      <th>5</th>\n",
       "      <td>20897010</td>\n",
       "      <td>2018-12-09</td>\n",
       "      <td>2018-09-26 15:10:09.000+0000</td>\n",
       "      <td>True</td>\n",
       "      <td>EUR</td>\n",
       "      <td>172</td>\n",
       "      <td>2</td>\n",
       "    </tr>\n",
       "    <tr>\n",
       "      <th>6</th>\n",
       "      <td>4290340</td>\n",
       "      <td>2018-09-04</td>\n",
       "      <td>2018-09-27 10:50:42.000+0000</td>\n",
       "      <td>True</td>\n",
       "      <td>EUR</td>\n",
       "      <td>67</td>\n",
       "      <td>15</td>\n",
       "    </tr>\n",
       "    <tr>\n",
       "      <th>7</th>\n",
       "      <td>4290340</td>\n",
       "      <td>2018-09-04</td>\n",
       "      <td>2018-09-27 06:06:28.000+0000</td>\n",
       "      <td>True</td>\n",
       "      <td>EUR</td>\n",
       "      <td>67</td>\n",
       "      <td>15</td>\n",
       "    </tr>\n",
       "    <tr>\n",
       "      <th>8</th>\n",
       "      <td>4290340</td>\n",
       "      <td>2018-09-04</td>\n",
       "      <td>2018-09-26 19:42:08.000+0000</td>\n",
       "      <td>True</td>\n",
       "      <td>EUR</td>\n",
       "      <td>67</td>\n",
       "      <td>15</td>\n",
       "    </tr>\n",
       "    <tr>\n",
       "      <th>9</th>\n",
       "      <td>24574634</td>\n",
       "      <td>2018-09-21</td>\n",
       "      <td>2018-09-27 10:48:47.000+0000</td>\n",
       "      <td>False</td>\n",
       "      <td>EUR</td>\n",
       "      <td>44</td>\n",
       "      <td>5</td>\n",
       "    </tr>\n",
       "    <tr>\n",
       "      <th>10</th>\n",
       "      <td>24574634</td>\n",
       "      <td>2018-09-21</td>\n",
       "      <td>2018-09-27 06:10:34.000+0000</td>\n",
       "      <td>False</td>\n",
       "      <td>EUR</td>\n",
       "      <td>44</td>\n",
       "      <td>5</td>\n",
       "    </tr>\n",
       "  </tbody>\n",
       "</table>\n",
       "</div>"
      ],
      "text/plain": [
       "    listing_id         day                       created  available  \\\n",
       "0      9810829  2018-12-08  2018-09-27 06:14:10.000+0000       True   \n",
       "1      9810829  2018-12-08  2018-09-26 19:34:02.000+0000       True   \n",
       "2     20897010  2018-12-09  2018-09-27 10:38:57.000+0000       True   \n",
       "3     20897010  2018-12-09  2018-09-27 06:10:27.000+0000       True   \n",
       "4     20897010  2018-12-09  2018-09-26 19:30:25.000+0000       True   \n",
       "5     20897010  2018-12-09  2018-09-26 15:10:09.000+0000       True   \n",
       "6      4290340  2018-09-04  2018-09-27 10:50:42.000+0000       True   \n",
       "7      4290340  2018-09-04  2018-09-27 06:06:28.000+0000       True   \n",
       "8      4290340  2018-09-04  2018-09-26 19:42:08.000+0000       True   \n",
       "9     24574634  2018-09-21  2018-09-27 10:48:47.000+0000      False   \n",
       "10    24574634  2018-09-21  2018-09-27 06:10:34.000+0000      False   \n",
       "\n",
       "   local_currency  local_price  min_nights  \n",
       "0             EUR          160           1  \n",
       "1             EUR          160           1  \n",
       "2             EUR          172           2  \n",
       "3             EUR          172           2  \n",
       "4             EUR          172           2  \n",
       "5             EUR          172           2  \n",
       "6             EUR           67          15  \n",
       "7             EUR           67          15  \n",
       "8             EUR           67          15  \n",
       "9             EUR           44           5  \n",
       "10            EUR           44           5  "
      ]
     },
     "execution_count": 3,
     "metadata": {},
     "output_type": "execute_result"
    }
   ],
   "source": [
    "prices.loc[:10, :]"
   ]
  },
  {
   "cell_type": "markdown",
   "metadata": {},
   "source": [
    "## Sélection des appartements"
   ]
  },
  {
   "cell_type": "code",
   "execution_count": 4,
   "metadata": {},
   "outputs": [
    {
     "name": "stdout",
     "output_type": "stream",
     "text": [
      "[522 511 511 ... 253 133 133]\n",
      "999\n"
     ]
    }
   ],
   "source": [
    "uniques, counts = np.unique(prices[\"listing_id\"], return_counts=True)  # On récupère les ID uniques et leur occurences sur les prix\n",
    "intersects = np.intersect1d(uniques, np.unique(listings[\"listing_id\"]))\n",
    "print(counts) # On regarde globalement combien de prix on a pour chaque appartement\n",
    "print(len(intersects))  # On vérifie que l'on a bien tous nos appartements de listings"
   ]
  },
  {
   "cell_type": "markdown",
   "metadata": {},
   "source": [
    "On prends le sous-ensemble de prix faisant référence à des appartements listés dans le jeu de données."
   ]
  },
  {
   "cell_type": "code",
   "execution_count": 5,
   "metadata": {},
   "outputs": [
    {
     "data": {
      "text/html": [
       "<div>\n",
       "<style scoped>\n",
       "    .dataframe tbody tr th:only-of-type {\n",
       "        vertical-align: middle;\n",
       "    }\n",
       "\n",
       "    .dataframe tbody tr th {\n",
       "        vertical-align: top;\n",
       "    }\n",
       "\n",
       "    .dataframe thead th {\n",
       "        text-align: right;\n",
       "    }\n",
       "</style>\n",
       "<table border=\"1\" class=\"dataframe\">\n",
       "  <thead>\n",
       "    <tr style=\"text-align: right;\">\n",
       "      <th></th>\n",
       "      <th>listing_id</th>\n",
       "      <th>day</th>\n",
       "      <th>created</th>\n",
       "      <th>available</th>\n",
       "      <th>local_currency</th>\n",
       "      <th>local_price</th>\n",
       "      <th>min_nights</th>\n",
       "    </tr>\n",
       "  </thead>\n",
       "  <tbody>\n",
       "    <tr>\n",
       "      <th>94</th>\n",
       "      <td>17757345</td>\n",
       "      <td>2018-10-14</td>\n",
       "      <td>2018-09-27 10:40:07.000+0000</td>\n",
       "      <td>False</td>\n",
       "      <td>EUR</td>\n",
       "      <td>40</td>\n",
       "      <td>1</td>\n",
       "    </tr>\n",
       "    <tr>\n",
       "      <th>95</th>\n",
       "      <td>17757345</td>\n",
       "      <td>2018-10-14</td>\n",
       "      <td>2018-09-27 06:05:54.000+0000</td>\n",
       "      <td>False</td>\n",
       "      <td>EUR</td>\n",
       "      <td>40</td>\n",
       "      <td>1</td>\n",
       "    </tr>\n",
       "    <tr>\n",
       "      <th>96</th>\n",
       "      <td>17757345</td>\n",
       "      <td>2018-10-14</td>\n",
       "      <td>2018-09-26 19:31:41.000+0000</td>\n",
       "      <td>False</td>\n",
       "      <td>EUR</td>\n",
       "      <td>40</td>\n",
       "      <td>1</td>\n",
       "    </tr>\n",
       "    <tr>\n",
       "      <th>297</th>\n",
       "      <td>2581464</td>\n",
       "      <td>2019-01-05</td>\n",
       "      <td>2018-09-27 10:40:54.000+0000</td>\n",
       "      <td>True</td>\n",
       "      <td>EUR</td>\n",
       "      <td>78</td>\n",
       "      <td>2</td>\n",
       "    </tr>\n",
       "    <tr>\n",
       "      <th>298</th>\n",
       "      <td>2581464</td>\n",
       "      <td>2019-01-05</td>\n",
       "      <td>2018-09-27 06:06:46.000+0000</td>\n",
       "      <td>True</td>\n",
       "      <td>EUR</td>\n",
       "      <td>78</td>\n",
       "      <td>2</td>\n",
       "    </tr>\n",
       "    <tr>\n",
       "      <th>299</th>\n",
       "      <td>2581464</td>\n",
       "      <td>2019-01-05</td>\n",
       "      <td>2018-09-26 19:38:27.000+0000</td>\n",
       "      <td>True</td>\n",
       "      <td>EUR</td>\n",
       "      <td>78</td>\n",
       "      <td>2</td>\n",
       "    </tr>\n",
       "    <tr>\n",
       "      <th>397</th>\n",
       "      <td>661961</td>\n",
       "      <td>2018-11-26</td>\n",
       "      <td>2018-09-26 19:31:41.000+0000</td>\n",
       "      <td>False</td>\n",
       "      <td>EUR</td>\n",
       "      <td>40</td>\n",
       "      <td>2</td>\n",
       "    </tr>\n",
       "    <tr>\n",
       "      <th>435</th>\n",
       "      <td>26493515</td>\n",
       "      <td>2018-12-12</td>\n",
       "      <td>2018-09-27 10:45:49.000+0000</td>\n",
       "      <td>False</td>\n",
       "      <td>EUR</td>\n",
       "      <td>99</td>\n",
       "      <td>2</td>\n",
       "    </tr>\n",
       "    <tr>\n",
       "      <th>436</th>\n",
       "      <td>26493515</td>\n",
       "      <td>2018-12-12</td>\n",
       "      <td>2018-09-27 06:11:51.000+0000</td>\n",
       "      <td>False</td>\n",
       "      <td>EUR</td>\n",
       "      <td>99</td>\n",
       "      <td>2</td>\n",
       "    </tr>\n",
       "    <tr>\n",
       "      <th>437</th>\n",
       "      <td>26493515</td>\n",
       "      <td>2018-12-12</td>\n",
       "      <td>2018-09-26 19:38:42.000+0000</td>\n",
       "      <td>False</td>\n",
       "      <td>EUR</td>\n",
       "      <td>99</td>\n",
       "      <td>2</td>\n",
       "    </tr>\n",
       "  </tbody>\n",
       "</table>\n",
       "</div>"
      ],
      "text/plain": [
       "     listing_id         day                       created  available  \\\n",
       "94     17757345  2018-10-14  2018-09-27 10:40:07.000+0000      False   \n",
       "95     17757345  2018-10-14  2018-09-27 06:05:54.000+0000      False   \n",
       "96     17757345  2018-10-14  2018-09-26 19:31:41.000+0000      False   \n",
       "297     2581464  2019-01-05  2018-09-27 10:40:54.000+0000       True   \n",
       "298     2581464  2019-01-05  2018-09-27 06:06:46.000+0000       True   \n",
       "299     2581464  2019-01-05  2018-09-26 19:38:27.000+0000       True   \n",
       "397      661961  2018-11-26  2018-09-26 19:31:41.000+0000      False   \n",
       "435    26493515  2018-12-12  2018-09-27 10:45:49.000+0000      False   \n",
       "436    26493515  2018-12-12  2018-09-27 06:11:51.000+0000      False   \n",
       "437    26493515  2018-12-12  2018-09-26 19:38:42.000+0000      False   \n",
       "\n",
       "    local_currency  local_price  min_nights  \n",
       "94             EUR           40           1  \n",
       "95             EUR           40           1  \n",
       "96             EUR           40           1  \n",
       "297            EUR           78           2  \n",
       "298            EUR           78           2  \n",
       "299            EUR           78           2  \n",
       "397            EUR           40           2  \n",
       "435            EUR           99           2  \n",
       "436            EUR           99           2  \n",
       "437            EUR           99           2  "
      ]
     },
     "execution_count": 5,
     "metadata": {},
     "output_type": "execute_result"
    }
   ],
   "source": [
    "listings_prices = prices[prices[\"listing_id\"].isin(intersects)]\n",
    "listings_prices.iloc[:10, :]"
   ]
  },
  {
   "cell_type": "markdown",
   "metadata": {},
   "source": [
    "## Visualisation simple\n",
    "On va afficher un appartement pour visualiser la courbe du prix."
   ]
  },
  {
   "cell_type": "code",
   "execution_count": 30,
   "metadata": {},
   "outputs": [
    {
     "data": {
      "image/png": "[encoded data removed]",
      "text/plain": [
       "<Figure size 1008x576 with 1 Axes>"
      ]
     },
     "metadata": {
      "needs_background": "light"
     },
     "output_type": "display_data"
    }
   ],
   "source": [
    "plt.figure(figsize=(14, 8))  # Affichage plus grand dans le notebook\n",
    "ID = intersects[2]\n",
    "series = listings_prices[listings_prices[\"listing_id\"] == ID]  # On récupère au bon ID\n",
    "dates = np.asarray([ datetime.strptime(x, \"%Y-%m-%d\") for x in series[\"day\"].values ])  # Les dates pour un bel affichage\n",
    "I_sort = np.argsort(dates)\n",
    "plt.plot(dates[I_sort], series[\"local_price\"].values[I_sort])\n",
    "plt.show()"
   ]
  },
  {
   "cell_type": "markdown",
   "metadata": {},
   "source": [
    "## Quelques exemples"
   ]
  },
  {
   "cell_type": "markdown",
   "metadata": {},
   "source": [
    "Essayez d'afficher la courbe de prix de différents appartements parmi les 20 premiers et réutilisant le code précédent dans une fonction pour rendre la manipulation plus facile."
   ]
  },
  {
   "cell_type": "code",
   "execution_count": null,
   "metadata": {},
   "outputs": [],
   "source": []
  },
  {
   "cell_type": "markdown",
   "metadata": {},
   "source": [
    "## Transformations des séries\n",
    "Parmi les séries affichées précedemment, on distingue trois cas particuliers :\n",
    "\n",
    "- Des séries bruitées, c'est-à-dire avec beaucoup d'aléas visibles\n",
    "- Des valeurs extrêmes, des \"pics\" (positifs ou négatifs) de prix très concentrés sur un court laps de temps\n",
    "- Des motifs de décomposition saisonnière (motifs répétés à chaque période)\n",
    "\n",
    "Nous allons appliquer plusieurs traitements afin de rendre les séries plus cohérentes pour la modélisation."
   ]
  },
  {
   "cell_type": "markdown",
   "metadata": {},
   "source": [
    "### Moyenne mobiles\n",
    "\n",
    "L'objectif de la moyenne mobile est de moyenne le prix d'une date $t$ avec les prix à des dates voisines. Cette transformation permet de \"lisser\" les séries et donc de rendre la série moins sensible aux valeurs extrêmes.\n",
    "\n",
    "On crée une série temporelle $(Y_t)$ à partir de $(X_t)$ de la manière suivante :\n",
    "$$Y_t=\\frac{1}{2k+1} \\sum_{l=t-k}^{t+k} X_l$$\n",
    "$(Y_t)$ s'appelle donc la moyenne mobile **d'ordre $k$**, $k$ étant le nombre de voisins à gauche (et à droite) que l'on considère pour moyenner."
   ]
  },
  {
   "cell_type": "code",
   "execution_count": 70,
   "metadata": {},
   "outputs": [
    {
     "data": {
      "image/png": "[encoded data removed]",
      "text/plain": [
       "<Figure size 1008x576 with 1 Axes>"
      ]
     },
     "metadata": {
      "needs_background": "light"
     },
     "output_type": "display_data"
    }
   ],
   "source": [
    "plt.figure(figsize=(14, 8))  # Affichage plus grand dans le notebook\n",
    "ID = intersects[2]\n",
    "series = listings_prices[listings_prices[\"listing_id\"] == ID]  # On récupère au bon ID\n",
    "plt.plot(dates[I_sort], series[\"local_price\"].values[I_sort], alpha=1)\n",
    "colors = [\"red\", \"green\", \"magenta\"]\n",
    "for k in [3, 10, 20]:\n",
    "    # TODO\n",
    "    mean_average = None\n",
    "    # FIN TODO\n",
    "    dates = np.asarray([ datetime.strptime(x, \"%Y-%m-%d\") for x in series[\"day\"].values ])  # Les dates pour un bel affichage\n",
    "    I_sort = np.argsort(dates)\n",
    "    plt.plot(dates[I_sort][k:len(dates)-k], mean_average, color=colors[k % 3], label=\"$k={0}$\".format(k), alpha=0.7)\n",
    "plt.legend()\n",
    "plt.show()"
   ]
  },
  {
   "cell_type": "markdown",
   "metadata": {},
   "source": [
    "### Valeurs extrêmes\n",
    "\n",
    "Une valeur extrême est une valeurs qui se situe parmi les plus grandes valeurs de la série. En particulier, certaines valeurs extrêmes peuvent être des valeurs aberrantes, des pics de prix bien trop élevés par rapport à la moyenne. On peut utiliser plusieurs méthodes :\n",
    "\n",
    "- Méthode des blocks maximas (aggrégation des valeurs par maximum sur chaque période)\n",
    "- Méthode à seuillage (Point Over Threshold, Mean Excess, ...)\n",
    "- Estimateurs Quantile-Quantile\n",
    "- Intervalle de confiance\n",
    "\n",
    "Pour notre cas d'usage, on s'arrêtera à l'utilisateur de boites à moustaches et de sélection par intervalle de confiance."
   ]
  },
  {
   "cell_type": "code",
   "execution_count": 75,
   "metadata": {},
   "outputs": [
    {
     "data": {
      "image/png": "[encoded data removed]",
      "text/plain": [
       "<Figure size 1008x432 with 1 Axes>"
      ]
     },
     "metadata": {
      "needs_background": "light"
     },
     "output_type": "display_data"
    }
   ],
   "source": [
    "plt.figure(figsize=(14, 6))\n",
    "ID = intersects[2]\n",
    "series = listings_prices[listings_prices[\"listing_id\"] == ID]\n",
    "# TODO\n",
    "\n",
    "# FIN TODO\n",
    "plt.show()"
   ]
  },
  {
   "cell_type": "markdown",
   "metadata": {},
   "source": [
    "D'après ce graphique, on souhaite retirer la valeur à $145$. Seulement, en retirant cette valeur, on obtient une série avec \"un vide\" à la place (sous Python, cela s'appelle des NaN pour Not a Number). Il faut donc remplacer ces vides par une valeur numérique.\n",
    "\n",
    "Le schéma classique consiste à effectuer une **interpolation linéaire** : on va tracer une droite qui relie le dernier point avant le vide, et le premier point après. Ainsi, pour chaque valeur retirée, on la remplace par la coordonnée de la droite d'interpolation au temps correspondant."
   ]
  },
  {
   "cell_type": "code",
   "execution_count": 119,
   "metadata": {},
   "outputs": [
    {
     "data": {
      "image/png": "[encoded data removed]",
      "text/plain": [
       "<Figure size 1008x576 with 2 Axes>"
      ]
     },
     "metadata": {
      "needs_background": "light"
     },
     "output_type": "display_data"
    }
   ],
   "source": [
    "from scipy import interpolate\n",
    "\n",
    "plt.figure(figsize=(14, 8))  # Affichage plus grand dans le notebook\n",
    "plt.subplot(211)\n",
    "ID = intersects[2]\n",
    "series = listings_prices[listings_prices[\"listing_id\"] == ID]  # On récupère au bon ID\n",
    "dates = np.asarray([ datetime.strptime(x, \"%Y-%m-%d\") for x in series[\"day\"].values ])  # Les dates pour un bel affichage\n",
    "I_sort = np.argsort(dates)\n",
    "# Processus d'interpolation\n",
    "local_prices_interpolate = series[\"local_price\"].copy()\n",
    "local_prices_interpolate[local_prices_interpolate > 140] = np.nan\n",
    "local_prices_interpolate = pd.Series(local_prices_interpolate).iloc[I_sort].interpolate().values\n",
    "#\n",
    "plt.title(\"Sans interpolation linéaire\")\n",
    "plt.plot(dates[I_sort], series[\"local_price\"].values[I_sort])\n",
    "plt.subplot(212)\n",
    "plt.title(\"Avec interpolation linéaire\")\n",
    "plt.plot(dates[I_sort], local_prices_interpolate, color=\"red\")\n",
    "plt.show()"
   ]
  },
  {
   "cell_type": "markdown",
   "metadata": {},
   "source": [
    "## Regroupement par plages de dates"
   ]
  },
  {
   "cell_type": "markdown",
   "metadata": {},
   "source": [
    "Revenons sur notre objectif initial : estimer un prix d'un appartement à un instant $t$ ($t$ étant supérieur ou égal au temps présent). Nous avons vu que le prix n'est pas linéaire en fonction de la date (vacances, Noël, nouvel an, ...).\n",
    "\n",
    "Nous avons vu que pour les arbres CART, utiliser uniquement le jour ramène à utiliser près de $365$ modalités pour la variable *date*, ce qui peut perturber le modèle au vu des instabilités présentes dans le jeu de données. Pour simplifier, nous allons donc **agréger le prix par plage de $7$ jours** dans un premier temps, ce qui nous ramène à une variable à $52$ modalités."
   ]
  },
  {
   "cell_type": "code",
   "execution_count": 35,
   "metadata": {},
   "outputs": [
    {
     "data": {
      "text/html": [
       "<div>\n",
       "<style scoped>\n",
       "    .dataframe tbody tr th:only-of-type {\n",
       "        vertical-align: middle;\n",
       "    }\n",
       "\n",
       "    .dataframe tbody tr th {\n",
       "        vertical-align: top;\n",
       "    }\n",
       "\n",
       "    .dataframe thead th {\n",
       "        text-align: right;\n",
       "    }\n",
       "</style>\n",
       "<table border=\"1\" class=\"dataframe\">\n",
       "  <thead>\n",
       "    <tr style=\"text-align: right;\">\n",
       "      <th></th>\n",
       "      <th>listing_id</th>\n",
       "      <th>date</th>\n",
       "      <th>local_price</th>\n",
       "    </tr>\n",
       "  </thead>\n",
       "  <tbody>\n",
       "    <tr>\n",
       "      <th>0</th>\n",
       "      <td>56093</td>\n",
       "      <td>2018-08-27</td>\n",
       "      <td>170.0</td>\n",
       "    </tr>\n",
       "    <tr>\n",
       "      <th>1</th>\n",
       "      <td>56093</td>\n",
       "      <td>2018-09-03</td>\n",
       "      <td>170.0</td>\n",
       "    </tr>\n",
       "    <tr>\n",
       "      <th>2</th>\n",
       "      <td>56093</td>\n",
       "      <td>2018-09-10</td>\n",
       "      <td>170.0</td>\n",
       "    </tr>\n",
       "    <tr>\n",
       "      <th>3</th>\n",
       "      <td>56093</td>\n",
       "      <td>2018-09-17</td>\n",
       "      <td>170.0</td>\n",
       "    </tr>\n",
       "    <tr>\n",
       "      <th>4</th>\n",
       "      <td>56093</td>\n",
       "      <td>2018-09-24</td>\n",
       "      <td>170.0</td>\n",
       "    </tr>\n",
       "  </tbody>\n",
       "</table>\n",
       "</div>"
      ],
      "text/plain": [
       "   listing_id       date  local_price\n",
       "0       56093 2018-08-27        170.0\n",
       "1       56093 2018-09-03        170.0\n",
       "2       56093 2018-09-10        170.0\n",
       "3       56093 2018-09-17        170.0\n",
       "4       56093 2018-09-24        170.0"
      ]
     },
     "execution_count": 35,
     "metadata": {},
     "output_type": "execute_result"
    }
   ],
   "source": [
    "dates =  pd.to_datetime(listings_prices[\"day\"], format='%Y-%m-%d')\n",
    "week_prices = listings_prices.assign(date=dates).set_index(dates).groupby(['listing_id', pd.Grouper(key='date', freq='7D')]).mean().reset_index().loc[:, [\"listing_id\", \"date\", \"local_price\"]]\n",
    "week_prices.head()"
   ]
  },
  {
   "cell_type": "markdown",
   "metadata": {},
   "source": [
    "### Comparaison\n",
    "\n",
    "Comparons avec la courbe obtenue dans les précédents codes."
   ]
  },
  {
   "cell_type": "code",
   "execution_count": 38,
   "metadata": {},
   "outputs": [
    {
     "data": {
      "image/png": "[encoded data removed]",
      "text/plain": [
       "<Figure size 1008x576 with 2 Axes>"
      ]
     },
     "metadata": {
      "needs_background": "light"
     },
     "output_type": "display_data"
    }
   ],
   "source": [
    "plt.figure(figsize=(14, 8))\n",
    "plt.subplot(211)\n",
    "ID = intersects[2]\n",
    "series = listings_prices[listings_prices[\"listing_id\"] == ID]  # On récupère au bon ID\n",
    "dates = np.asarray([ datetime.strptime(x, \"%Y-%m-%d\") for x in series[\"day\"].values ])  # Les dates pour un bel affichage\n",
    "I_sort = np.argsort(dates)\n",
    "\n",
    "plt.title(\"Prix journalier\")\n",
    "plt.plot(dates[I_sort], series[\"local_price\"].values[I_sort])\n",
    "\n",
    "series = week_prices[week_prices[\"listing_id\"] == ID]\n",
    "dates = np.asarray([ x for x in series[\"date\"].values ])\n",
    "I_sort = np.argsort(dates)\n",
    "\n",
    "plt.subplot(212)\n",
    "plt.title(\"Prix hebdomadaire\")\n",
    "plt.plot(dates[I_sort], series[\"local_price\"].values[I_sort])\n",
    "plt.show()"
   ]
  },
  {
   "cell_type": "code",
   "execution_count": null,
   "metadata": {},
   "outputs": [],
   "source": []
  }
 ],
 "metadata": {
  "kernelspec": {
   "display_name": "Python 3",
   "language": "python",
   "name": "python3"
  },
  "language_info": {
   "codemirror_mode": {
    "name": "ipython",
    "version": 3
   },
   "file_extension": ".py",
   "mimetype": "text/x-python",
   "name": "python",
   "nbconvert_exporter": "python",
   "pygments_lexer": "ipython3",
   "version": "3.5.2"
  }
 },
 "nbformat": 4,
 "nbformat_minor": 2
}
