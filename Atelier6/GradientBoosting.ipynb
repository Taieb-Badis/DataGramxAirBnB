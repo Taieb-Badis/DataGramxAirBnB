{
 "cells": [
  {
   "cell_type": "markdown",
   "metadata": {},
   "source": [
    "# Gradient Boosting et XGBoost"
   ]
  },
  {
   "cell_type": "markdown",
   "metadata": {},
   "source": [
    "Le **boosting** est une technique de réduction du biais et de la variance utilisé en appretissage supervisé. L'idée sous-jacente est de construire un modèle complexe à partir de plusieurs modèles simples, dits *faibles*.\n",
    "\n",
    "Considérons un classifieur faible initial $f_0$. Après l'avoir optimisé, la méthode de boosting cherche à construire un nouveau classifieur faible $f_1$ à partir de $f_0$ en introduction un terme *de résidu* $h$ :\n",
    "$$f_1(x)=f_0(x) + h(x)$$\n",
    "De sorte que $f_1$ soit *plus performant* que $f_0$. On répétant l'opération un certain nombre de fois, disons $p$, on construit un classifieur final $F$ complexe qui est une combinaison linéaire des $f_i$, où chacun des $f_i$ est associé à un poids $\\alpha_i$ :\n",
    "\n",
    "$$F(x)=\\sum_{i=1}^n \\alpha_i f_i(x)$$"
   ]
  },
  {
   "cell_type": "code",
   "execution_count": 8,
   "metadata": {},
   "outputs": [],
   "source": [
    "import numpy as np\n",
    "import pandas as pd\n",
    "import matplotlib.pyplot as plt\n",
    "from datetime import datetime\n",
    "import scipy\n",
    "import shap\n",
    "\n",
    "from sklearn.metrics import r2_score\n",
    "from sklearn.model_selection import train_test_split\n",
    "\n",
    "import xgboost as xgb"
   ]
  },
  {
   "cell_type": "code",
   "execution_count": 2,
   "metadata": {},
   "outputs": [
    {
     "name": "stdout",
     "output_type": "stream",
     "text": [
      "Chargement des données effectué.\n"
     ]
    }
   ],
   "source": [
    "prices = pd.read_csv(\"/home/maxime/Documents/Hackademy/Codes Formations/Datagram_AirBnB/data/price_availability.csv\", sep=\";\")\n",
    "listings = pd.read_csv(\"../clean/listings_final.csv\", sep=\";\")\n",
    "listings = listings.drop(589)  # Cet individu n'a pas de prix !\n",
    "print(\"Chargement des données effectué.\")"
   ]
  },
  {
   "cell_type": "code",
   "execution_count": 3,
   "metadata": {},
   "outputs": [],
   "source": [
    "uniques = np.unique(prices[\"listing_id\"]) \n",
    "intersects = np.intersect1d(uniques, np.unique(listings[\"listing_id\"]))\n",
    "listings_prices = prices[prices[\"listing_id\"].isin(intersects)]"
   ]
  },
  {
   "cell_type": "code",
   "execution_count": 4,
   "metadata": {},
   "outputs": [
    {
     "data": {
      "text/html": [
       "<div>\n",
       "<style scoped>\n",
       "    .dataframe tbody tr th:only-of-type {\n",
       "        vertical-align: middle;\n",
       "    }\n",
       "\n",
       "    .dataframe tbody tr th {\n",
       "        vertical-align: top;\n",
       "    }\n",
       "\n",
       "    .dataframe thead th {\n",
       "        text-align: right;\n",
       "    }\n",
       "</style>\n",
       "<table border=\"1\" class=\"dataframe\">\n",
       "  <thead>\n",
       "    <tr style=\"text-align: right;\">\n",
       "      <th></th>\n",
       "      <th>listing_id</th>\n",
       "      <th>date</th>\n",
       "      <th>local_price</th>\n",
       "    </tr>\n",
       "  </thead>\n",
       "  <tbody>\n",
       "    <tr>\n",
       "      <th>0</th>\n",
       "      <td>56093</td>\n",
       "      <td>2018-08-27</td>\n",
       "      <td>170.0</td>\n",
       "    </tr>\n",
       "    <tr>\n",
       "      <th>1</th>\n",
       "      <td>56093</td>\n",
       "      <td>2018-09-03</td>\n",
       "      <td>170.0</td>\n",
       "    </tr>\n",
       "    <tr>\n",
       "      <th>2</th>\n",
       "      <td>56093</td>\n",
       "      <td>2018-09-10</td>\n",
       "      <td>170.0</td>\n",
       "    </tr>\n",
       "    <tr>\n",
       "      <th>3</th>\n",
       "      <td>56093</td>\n",
       "      <td>2018-09-17</td>\n",
       "      <td>170.0</td>\n",
       "    </tr>\n",
       "    <tr>\n",
       "      <th>4</th>\n",
       "      <td>56093</td>\n",
       "      <td>2018-09-24</td>\n",
       "      <td>170.0</td>\n",
       "    </tr>\n",
       "  </tbody>\n",
       "</table>\n",
       "</div>"
      ],
      "text/plain": [
       "   listing_id       date  local_price\n",
       "0       56093 2018-08-27        170.0\n",
       "1       56093 2018-09-03        170.0\n",
       "2       56093 2018-09-10        170.0\n",
       "3       56093 2018-09-17        170.0\n",
       "4       56093 2018-09-24        170.0"
      ]
     },
     "execution_count": 4,
     "metadata": {},
     "output_type": "execute_result"
    }
   ],
   "source": [
    "dates =  pd.to_datetime(listings_prices[\"day\"], format='%Y-%m-%d')\n",
    "week_prices = listings_prices.assign(date=dates).set_index(dates).groupby(['listing_id', pd.Grouper(key='date', freq='7D')]).mean().reset_index().loc[:, [\"listing_id\", \"date\", \"local_price\"]]\n",
    "week_prices.head()"
   ]
  },
  {
   "cell_type": "code",
   "execution_count": 13,
   "metadata": {},
   "outputs": [],
   "source": [
    "Y = []\n",
    "\n",
    "for i, row in listings.iterrows():\n",
    "    y = 0\n",
    "    ID = int(row[\"listing_id\"])\n",
    "    subset = listings_prices[listings_prices[\"listing_id\"] == ID]\n",
    "    y = subset[\"local_price\"].mean()\n",
    "    Y.append(y)"
   ]
  },
  {
   "cell_type": "code",
   "execution_count": 58,
   "metadata": {},
   "outputs": [],
   "source": [
    "X_train, X_test, Y_train, Y_test = train_test_split(\n",
    "    listings.loc[:, [\"latitude\", \"longitude\", \"is_fully_refundable\", \"person_capacity\", \"bedrooms\", \"bathrooms\"]],\n",
    "    np.asarray(Y),\n",
    "    test_size=0.2, random_state=10)"
   ]
  },
  {
   "cell_type": "code",
   "execution_count": 59,
   "metadata": {},
   "outputs": [],
   "source": [
    "dtrain = xgb.DMatrix(X_train, Y_train)\n",
    "dtest = xgb.DMatrix(X_test, Y_test)"
   ]
  },
  {
   "cell_type": "code",
   "execution_count": 60,
   "metadata": {},
   "outputs": [],
   "source": [
    "param = {'max_depth':3, 'eta':0.1, 'silent':1, 'objective':'reg:linear' }\n",
    "num_round = 100\n",
    "bst = xgb.train(param, dtrain, num_round)\n",
    "# make prediction\n",
    "preds = bst.predict(dtest)"
   ]
  },
  {
   "cell_type": "code",
   "execution_count": 61,
   "metadata": {},
   "outputs": [
    {
     "name": "stdout",
     "output_type": "stream",
     "text": [
      "Variance score: 0.5107\n"
     ]
    }
   ],
   "source": [
    "print('Variance score: %.4f' % r2_score(Y_test, preds))"
   ]
  },
  {
   "cell_type": "code",
   "execution_count": null,
   "metadata": {},
   "outputs": [],
   "source": []
  }
 ],
 "metadata": {
  "kernelspec": {
   "display_name": "Python 3",
   "language": "python",
   "name": "python3"
  },
  "language_info": {
   "codemirror_mode": {
    "name": "ipython",
    "version": 3
   },
   "file_extension": ".py",
   "mimetype": "text/x-python",
   "name": "python",
   "nbconvert_exporter": "python",
   "pygments_lexer": "ipython3",
   "version": "3.5.2"
  }
 },
 "nbformat": 4,
 "nbformat_minor": 2
}
